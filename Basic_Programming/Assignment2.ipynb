{
 "cells": [
  {
   "cell_type": "markdown",
   "id": "bac74133",
   "metadata": {},
   "source": [
    "1.\tWrite a Python program to convert kilometers to miles?\n",
    "2.\tWrite a Python program to convert Celsius to Fahrenheit?\n",
    "3.\tWrite a Python program to display calendar?\n",
    "4.\tWrite a Python program to solve quadratic equation?\n",
    "5.\tWrite a Python program to swap two variables without temp variable?\n"
   ]
  },
  {
   "cell_type": "markdown",
   "id": "db3f69f2",
   "metadata": {},
   "source": [
    "1.\tWrite a Python program to convert kilometers to miles?"
   ]
  },
  {
   "cell_type": "code",
   "execution_count": 9,
   "id": "eaa8fd94",
   "metadata": {},
   "outputs": [
    {
     "name": "stdout",
     "output_type": "stream",
     "text": [
      "enter the kilometer to convert it into miles12\n",
      "Conversion into miles is 7.45644\n"
     ]
    }
   ],
   "source": [
    "a=int(input(\"enter the kilometer to convert it into miles\"))\n",
    "print(\"Conversion into miles is\",a*0.62137)"
   ]
  },
  {
   "cell_type": "markdown",
   "id": "28c488f8",
   "metadata": {},
   "source": [
    "2.\tWrite a Python program to convert Celsius to Fahrenheit?"
   ]
  },
  {
   "cell_type": "code",
   "execution_count": 10,
   "id": "baebc2e1",
   "metadata": {},
   "outputs": [
    {
     "name": "stdout",
     "output_type": "stream",
     "text": [
      "enter the celsius to conver12\n",
      "After conversion to faherenheit 53.6\n"
     ]
    }
   ],
   "source": [
    "a=int(input(\"enter the celsius to conver\"))\n",
    "print(\"After conversion to faherenheit\",((a*1.8)+32))"
   ]
  },
  {
   "cell_type": "markdown",
   "id": "115ee0fd",
   "metadata": {},
   "source": [
    "3.\tWrite a Python program to display calendar?"
   ]
  },
  {
   "cell_type": "code",
   "execution_count": 13,
   "id": "4860918d",
   "metadata": {},
   "outputs": [
    {
     "name": "stdout",
     "output_type": "stream",
     "text": [
      "enter the year as yyyy2012\n",
      "enter the month  as mm12\n",
      "   December 2012\n",
      "Mo Tu We Th Fr Sa Su\n",
      "                1  2\n",
      " 3  4  5  6  7  8  9\n",
      "10 11 12 13 14 15 16\n",
      "17 18 19 20 21 22 23\n",
      "24 25 26 27 28 29 30\n",
      "31\n",
      "\n"
     ]
    }
   ],
   "source": [
    "import calendar\n",
    " \n",
    "yy = int(input(\"enter the year as yyyy\"))\n",
    "mm = int(input(\"enter the month  as mm\"))\n",
    "print(calendar.month(yy,mm))"
   ]
  },
  {
   "cell_type": "markdown",
   "id": "2efb50b7",
   "metadata": {},
   "source": [
    "4.Write a Python program to solve quadratic equation"
   ]
  },
  {
   "cell_type": "code",
   "execution_count": 27,
   "id": "2bf29d32",
   "metadata": {},
   "outputs": [
    {
     "name": "stdout",
     "output_type": "stream",
     "text": [
      "a,b,c or the quadratic eqns\n",
      "1\n",
      "2\n",
      "3\n",
      "the solutions are\n",
      " (-1-1.4142135623730951j) and (-1+1.4142135623730951j)\n"
     ]
    }
   ],
   "source": [
    "import cmath\n",
    "print(\"a,b,c or the quadratic eqns\")\n",
    "\n",
    "a = int(input())\n",
    "b = int(input())\n",
    "c = int(input())\n",
    "d = (b**2) - (4*a*c)\n",
    "\n",
    "sol1 = (-b-cmath.sqrt(d))/(2*a)\n",
    "sol2 = (-b+cmath.sqrt(d))/(2*a)\n",
    "print('the solutions are')\n",
    "print(' {0} and {1}'.format(sol1,sol2))"
   ]
  },
  {
   "cell_type": "markdown",
   "id": "c0a5897c",
   "metadata": {},
   "source": [
    "5.\tWrite a Python program to swap two variables without temp variable?"
   ]
  },
  {
   "cell_type": "code",
   "execution_count": 2,
   "id": "2dca946d",
   "metadata": {},
   "outputs": [
    {
     "name": "stdout",
     "output_type": "stream",
     "text": [
      "enter the first number1\n",
      "enter the second number2\n",
      "numbers before swap 1 2\n",
      "number after swap 2 1\n"
     ]
    }
   ],
   "source": [
    "a=int(input(\"enter the first number\"))\n",
    "b=int(input(\"enter the second number\"))\n",
    "print('numbers before swap',a,b)\n",
    "a,b=b,a\n",
    "print('number after swap',a,b)"
   ]
  },
  {
   "cell_type": "code",
   "execution_count": null,
   "id": "69dfb73a",
   "metadata": {},
   "outputs": [],
   "source": []
  }
 ],
 "metadata": {
  "kernelspec": {
   "display_name": "Python 3 (ipykernel)",
   "language": "python",
   "name": "python3"
  },
  "language_info": {
   "codemirror_mode": {
    "name": "ipython",
    "version": 3
   },
   "file_extension": ".py",
   "mimetype": "text/x-python",
   "name": "python",
   "nbconvert_exporter": "python",
   "pygments_lexer": "ipython3",
   "version": "3.9.7"
  }
 },
 "nbformat": 4,
 "nbformat_minor": 5
}
