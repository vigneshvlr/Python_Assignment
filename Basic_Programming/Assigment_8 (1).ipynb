{
 "cells": [
  {
   "cell_type": "markdown",
   "id": "3c4ce2ed",
   "metadata": {},
   "source": [
    "1.\tWrite a Python Program to Add Two Matrices?\n",
    "2.\tWrite a Python Program to Multiply Two Matrices?\n",
    "3.\tWrite a Python Program to Transpose a Matrix?\n",
    "4.\tWrite a Python Program to Sort Words in Alphabetic Order?\n",
    "5.\tWrite a Python Program to Remove Punctuation From a String?\n"
   ]
  },
  {
   "cell_type": "markdown",
   "id": "1561b734",
   "metadata": {},
   "source": [
    "1.Write a Python Program to Add Two Matrices?"
   ]
  },
  {
   "cell_type": "code",
   "execution_count": 29,
   "id": "e95a8c7e",
   "metadata": {},
   "outputs": [
    {
     "name": "stdout",
     "output_type": "stream",
     "text": [
      "the matrix 1 and 2 befor adding\n",
      "[[1 2]\n",
      " [1 2]]\n",
      "[[3 2]\n",
      " [4 5]]\n",
      "after adding matrix1 and matrix2 is:\n"
     ]
    },
    {
     "data": {
      "text/plain": [
       "array([[4, 4],\n",
       "       [5, 7]])"
      ]
     },
     "execution_count": 29,
     "metadata": {},
     "output_type": "execute_result"
    }
   ],
   "source": [
    "import numpy as np\n",
    "def matrixs(mat1,mat2):\n",
    "    return mat1+mat2\n",
    "mat1=np.array([[1,2],[1,2]])#matrix1\n",
    "mat2=np.array([[3,2],[4,5]])#matrix2\n",
    "print(\"the matrix 1 and 2 befor adding\")\n",
    "print(mat1)\n",
    "print(mat2)\n",
    "print(\"after adding above matrix1 and matrix2 is:\")\n",
    "matrixs(mat1,mat2)"
   ]
  },
  {
   "cell_type": "markdown",
   "id": "19c0d0ee",
   "metadata": {},
   "source": [
    "2.Write a Python Program to Multiply Two Matrices?"
   ]
  },
  {
   "cell_type": "code",
   "execution_count": 30,
   "id": "97dbe24b",
   "metadata": {},
   "outputs": [
    {
     "name": "stdout",
     "output_type": "stream",
     "text": [
      "[[1 2]\n",
      " [1 2]]\n",
      "[[3 2]\n",
      " [4 5]]\n",
      "after adding matrix1 and matrix2 is\n"
     ]
    },
    {
     "data": {
      "text/plain": [
       "array([[ 3,  4],\n",
       "       [ 4, 10]])"
      ]
     },
     "execution_count": 30,
     "metadata": {},
     "output_type": "execute_result"
    }
   ],
   "source": [
    "import numpy as np\n",
    "def matrixs(mat1,mat2):\n",
    "    return mat1*mat2\n",
    "mat1=np.array([[1,2],[1,2]])#matrix1\n",
    "mat2=np.array([[3,2],[4,5]])#matrix2\n",
    "print(mat1)\n",
    "print(mat2)\n",
    "print(\"after adding matrix1 and matrix2 is\")\n",
    "matrixs(mat1,mat2)"
   ]
  },
  {
   "cell_type": "markdown",
   "id": "ece18544",
   "metadata": {},
   "source": [
    "3.Write a Python Program to Transpose a Matrix?"
   ]
  },
  {
   "cell_type": "code",
   "execution_count": 35,
   "id": "28bfc9b5",
   "metadata": {},
   "outputs": [
    {
     "name": "stdout",
     "output_type": "stream",
     "text": [
      "Before transpoing the given matrix\n",
      "[[1 2]\n",
      " [6 1]]\n",
      "after transpose\n",
      "[[1 6]\n",
      " [2 1]]\n"
     ]
    }
   ],
   "source": [
    "import numpy as np\n",
    "mat1=np.array([[1,2],[6,1]])#matrix1\n",
    "print(\"Before transpoing the given matrix\")\n",
    "print(mat1)\n",
    "print(\"after transpose\")\n",
    "c=mat1.T\n",
    "print(c)\n"
   ]
  },
  {
   "cell_type": "markdown",
   "id": "3ad1ee85",
   "metadata": {},
   "source": [
    "4.Write a Python Program to Sort Words in Alphabetic Order"
   ]
  },
  {
   "cell_type": "code",
   "execution_count": 54,
   "id": "8a06ffcd",
   "metadata": {
    "scrolled": true
   },
   "outputs": [
    {
     "name": "stdout",
     "output_type": "stream",
     "text": [
      "enter a string to sort itb c a\n",
      "a\n",
      "b\n",
      "c\n"
     ]
    }
   ],
   "source": [
    "c=input(\"enter a string to sort it\")\n",
    "d=c.split()\n",
    "d.sort()\n",
    "for i in d:\n",
    "    print(i)"
   ]
  },
  {
   "cell_type": "markdown",
   "id": "9fc1ffc3",
   "metadata": {},
   "source": [
    "5. a Python Program to Remove Punctuation From a String?"
   ]
  },
  {
   "cell_type": "code",
   "execution_count": 2,
   "id": "be9bd4e1",
   "metadata": {},
   "outputs": [
    {
     "name": "stdout",
     "output_type": "stream",
     "text": [
      "enter a stringabc()(<>\n",
      "abc\n"
     ]
    }
   ],
   "source": [
    "c='''!()-[]{};:'\"\\,<>./?@#$%^&*_~'''\n",
    "d=input(\"enter a string\")\n",
    "e=\"\"\n",
    "for i in d:\n",
    "    if i not in c:\n",
    "        e=e+i\n",
    "print(e)\n",
    "        "
   ]
  },
  {
   "cell_type": "code",
   "execution_count": null,
   "id": "aeb34a3e",
   "metadata": {},
   "outputs": [],
   "source": []
  }
 ],
 "metadata": {
  "kernelspec": {
   "display_name": "Python 3 (ipykernel)",
   "language": "python",
   "name": "python3"
  },
  "language_info": {
   "codemirror_mode": {
    "name": "ipython",
    "version": 3
   },
   "file_extension": ".py",
   "mimetype": "text/x-python",
   "name": "python",
   "nbconvert_exporter": "python",
   "pygments_lexer": "ipython3",
   "version": "3.9.7"
  }
 },
 "nbformat": 4,
 "nbformat_minor": 5
}
