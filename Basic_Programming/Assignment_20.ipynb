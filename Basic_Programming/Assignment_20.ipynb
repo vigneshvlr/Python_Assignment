{
 "cells": [
  {
   "cell_type": "markdown",
   "id": "9bbcff12",
   "metadata": {},
   "source": [
    "# Question1\n",
    "Create a function that takes a list of strings and integers, and filters out the list so that it returns a list of integers only.\n",
    "Examples\n",
    "filter_list([1, 2, 3, \"a\", \"b\", 4]) ➞ [1, 2, 3, 4]\n",
    "\n",
    "filter_list([\"A\", 0, \"Edabit\", 1729, \"Python\", \"1729\"]) ➞ [0, 1729]\n",
    "\n",
    "filter_list([\"Nothing\", \"here\"]) ➞ []\n"
   ]
  },
  {
   "cell_type": "code",
   "execution_count": 38,
   "id": "1bceb630",
   "metadata": {},
   "outputs": [
    {
     "name": "stdout",
     "output_type": "stream",
     "text": [
      "enter the total elements no of elements in a list7\n",
      "enter the elements one by one to the list\n",
      "a\n",
      "b\n",
      "1\n",
      "2\n",
      "c\n",
      "3\n",
      "e\n"
     ]
    },
    {
     "data": {
      "text/plain": [
       "[1, 2, 3]"
      ]
     },
     "execution_count": 38,
     "metadata": {},
     "output_type": "execute_result"
    }
   ],
   "source": [
    "def func(a):\n",
    "    l=[]\n",
    "    for i in range(len(a)):\n",
    "        if a[i].isdigit():\n",
    "            l.append(int(a[i]))\n",
    "    return l\n",
    "c=int(input(\"enter the total elements no of elements in a list\"))\n",
    "print('enter the elements one by one to the list')\n",
    "a=[]\n",
    "for i in range(0,c):\n",
    "    a.append(input())\n",
    "func(a)\n",
    "\n",
    "    "
   ]
  },
  {
   "cell_type": "markdown",
   "id": "32a5322f",
   "metadata": {},
   "source": [
    "# Question2\n",
    "Given a list of numbers, create a function which returns the list but with each element's index in the list added to itself. This means you add 0 to the number at index 0, add 1 to the number at index 1, etc...\n",
    "Examples\n",
    "add_indexes([0, 0, 0, 0, 0]) ➞ [0, 1, 2, 3, 4]\n",
    "\n",
    "add_indexes([1, 2, 3, 4, 5]) ➞ [1, 3, 5, 7, 9]\n",
    "\n",
    "add_indexes([5, 4, 3, 2, 1]) ➞ [5, 5, 5, 5, 5]\n"
   ]
  },
  {
   "cell_type": "code",
   "execution_count": 42,
   "id": "1fe08569",
   "metadata": {},
   "outputs": [
    {
     "name": "stdout",
     "output_type": "stream",
     "text": [
      "enter the total elements in the list5\n",
      "enter the elemets one by one\n",
      "0\n",
      "0\n",
      "0\n",
      "0\n",
      "0\n"
     ]
    },
    {
     "data": {
      "text/plain": [
       "[0, 1, 2, 3, 4]"
      ]
     },
     "execution_count": 42,
     "metadata": {},
     "output_type": "execute_result"
    }
   ],
   "source": [
    "def add_indexes(a):\n",
    "    l=[]\n",
    "    d=0\n",
    "    for i in range(len(a)):\n",
    "        d=i+a[i]\n",
    "        l.append(d)\n",
    "    return l\n",
    "c=int(input(\"enter the total elements in the list\"))\n",
    "a=[]\n",
    "print('enter the elemets one by one')\n",
    "for i in range(c):\n",
    "    a.append(int(input()))\n",
    "add_indexes(a)"
   ]
  },
  {
   "cell_type": "markdown",
   "id": "555dc994",
   "metadata": {},
   "source": [
    "# Question3\n",
    "Create a function that takes the height and radius of a cone as arguments and returns the volume of the cone rounded to the nearest hundredth. See the resources tab for the formula.\n"
   ]
  },
  {
   "cell_type": "code",
   "execution_count": 45,
   "id": "293cda2a",
   "metadata": {},
   "outputs": [
    {
     "name": "stdout",
     "output_type": "stream",
     "text": [
      "enter the radius of the cone3\n",
      "enter the height of the cone2\n",
      "the volume of the cone is 12.56\n"
     ]
    }
   ],
   "source": [
    "def cone(h,r):\n",
    "    c=(3.14*r*r*h)/3\n",
    "    return round(c,2)\n",
    "h=int(input('enter the radius of the cone'))\n",
    "r=int(input('enter the height of the cone'))\n",
    "d=cone(h,r)\n",
    "print(\"the volume of the cone is\",d)"
   ]
  },
  {
   "cell_type": "markdown",
   "id": "b1679cf1",
   "metadata": {},
   "source": [
    "# Question4\n",
    "This Triangular Number Sequence is generated from a pattern of dots that form a triangle. The first 5 numbers of the sequence, or dots, are: \n",
    "1, 3, 6, 10, 15\n",
    "This means that the first triangle has just one dot, the second one has three dots, the third one has 6 dots and so on.\n",
    "Write a function that gives the number of dots with its corresponding triangle number of the sequence.\n",
    "Examples\n",
    "triangle(1) ➞ 1\n",
    "\n",
    "triangle(6) ➞ 21\n",
    "\n",
    "triangle(215) ➞ 23220\n"
   ]
  },
  {
   "cell_type": "code",
   "execution_count": 54,
   "id": "9d4a2dd8",
   "metadata": {},
   "outputs": [
    {
     "name": "stdout",
     "output_type": "stream",
     "text": [
      "enter a number to find its nth element of the sequence6\n"
     ]
    },
    {
     "data": {
      "text/plain": [
       "21"
      ]
     },
     "execution_count": 54,
     "metadata": {},
     "output_type": "execute_result"
    }
   ],
   "source": [
    "def func(n):\n",
    "    c=int((n*(n+1))/2)\n",
    "    return c\n",
    "c=int(input(\"enter a number to find its nth element of the sequence\"))\n",
    "func(c)"
   ]
  },
  {
   "cell_type": "markdown",
   "id": "03efcc2b",
   "metadata": {},
   "source": [
    "# Question5|\n",
    "Create a function that takes a list of numbers between 1 and 10 (excluding one number) and returns the missing number.\n",
    "Examples\n",
    "missing_num([1, 2, 3, 4, 6, 7, 8, 9, 10]) ➞ 5\n",
    "\n",
    "missing_num([7, 2, 3, 6, 5, 9, 1, 4, 8]) ➞ 10\n",
    "\n",
    "missing_num([10, 5, 1, 2, 4, 6, 8, 3, 9]) ➞ 7\n"
   ]
  },
  {
   "cell_type": "code",
   "execution_count": 66,
   "id": "5d39e045",
   "metadata": {},
   "outputs": [
    {
     "name": "stdout",
     "output_type": "stream",
     "text": [
      "enter the 9 numbers 0(exclusive) and 10(inclusive) one by one in the list \n",
      "1\n",
      "2\n",
      "3\n",
      "4\n",
      "5\n",
      "6\n",
      "7\n",
      "8\n",
      "9\n",
      "the element missing in the \n",
      "[1, 2, 3, 4, 5, 6, 7, 8, 9, 10]\n"
     ]
    },
    {
     "data": {
      "text/plain": [
       "10"
      ]
     },
     "execution_count": 66,
     "metadata": {},
     "output_type": "execute_result"
    }
   ],
   "source": [
    "def func(a):\n",
    "    a=sorted(a)\n",
    "    b=[i for i in range(1,11)]\n",
    "    \n",
    "    for i in b:\n",
    "        if i not in a:\n",
    "            return i\n",
    "print('enter the 9 numbers 0(exclusive) and 10(inclusive) one by one in the list ')\n",
    "l=[]\n",
    "for i in range(1,10):\n",
    "    d=int(input())\n",
    "    l.append(d)\n",
    "print(\"the element missing in the \")\n",
    "func(l)\n",
    "        "
   ]
  }
 ],
 "metadata": {
  "kernelspec": {
   "display_name": "Python 3 (ipykernel)",
   "language": "python",
   "name": "python3"
  },
  "language_info": {
   "codemirror_mode": {
    "name": "ipython",
    "version": 3
   },
   "file_extension": ".py",
   "mimetype": "text/x-python",
   "name": "python",
   "nbconvert_exporter": "python",
   "pygments_lexer": "ipython3",
   "version": "3.9.7"
  }
 },
 "nbformat": 4,
 "nbformat_minor": 5
}
