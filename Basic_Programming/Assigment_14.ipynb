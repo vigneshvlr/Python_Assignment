{
 "cells": [
  {
   "cell_type": "markdown",
   "id": "7a6fa35e",
   "metadata": {},
   "source": [
    "# Question 1:\n",
    "\n",
    "Define a class with a generator which can iterate the numbers, which are divisible by 7, between a given range 0 and n.\n"
   ]
  },
  {
   "cell_type": "code",
   "execution_count": 23,
   "id": "38d5bcca",
   "metadata": {},
   "outputs": [
    {
     "name": "stdout",
     "output_type": "stream",
     "text": [
      "enter the value of n100\n",
      "7\n",
      "14\n",
      "21\n",
      "28\n",
      "35\n",
      "42\n",
      "49\n",
      "56\n",
      "63\n",
      "70\n",
      "77\n",
      "84\n",
      "91\n",
      "98\n"
     ]
    }
   ],
   "source": [
    "class divisor:\n",
    "    def __init__(self,n):\n",
    "        self.n=n\n",
    "    def div(self,n):\n",
    "        for i in range(1,self.n):\n",
    "            if i%7==0:\n",
    "                yield i\n",
    "a=int(input(\"enter the value of n\"))\n",
    "obj1=divisor(a)\n",
    "for i in obj1.div(a):\n",
    "    print(i)\n",
    "\n",
    "        \n",
    "        \n",
    "        "
   ]
  },
  {
   "cell_type": "markdown",
   "id": "0758a100",
   "metadata": {},
   "source": [
    "# Question 2:\n",
    "Write a program to compute the frequency of the words from the input. The output should output after sorting the key alphanumerically. \n",
    "\n",
    "Suppose the following input is supplied to the program:\n",
    "\n",
    "New to Python or choosing between Python 2 and Python 3? Read Python 2 or Python 3.\n"
   ]
  },
  {
   "cell_type": "code",
   "execution_count": 30,
   "id": "9328478e",
   "metadata": {},
   "outputs": [
    {
     "name": "stdout",
     "output_type": "stream",
     "text": [
      "enter a string to calculate the frequency of the wordsNew to Python or choosing between Python 2 and Python 3? Read Python 2 or Python 3.\n",
      "2 : 2\n",
      "3. : 1\n",
      "3? : 1\n",
      "New : 1\n",
      "Python : 5\n",
      "Read : 1\n",
      "and : 1\n",
      "between : 1\n",
      "choosing : 1\n",
      "or : 2\n",
      "to : 1\n"
     ]
    }
   ],
   "source": [
    "a=input(\"enter a string to calculate the frequency of the words\")\n",
    "l=a.split(' ')\n",
    "l1=[]\n",
    "l.sort()\n",
    "for i in l:\n",
    "    if i not in l1:\n",
    "        print(i,':',l.count(i))\n",
    "        l1.append(i)"
   ]
  },
  {
   "cell_type": "markdown",
   "id": "e436eaa7",
   "metadata": {},
   "source": [
    "# Question 3:\n",
    "\n",
    "Define a class Person and its two child classes: Male and Female. \n",
    "    All classes have a method \"getGender\" which can print \"Male\" for Male class and \"Female\" for Female class.\n"
   ]
  },
  {
   "cell_type": "code",
   "execution_count": 35,
   "id": "dc4c8f53",
   "metadata": {},
   "outputs": [
    {
     "name": "stdout",
     "output_type": "stream",
     "text": [
      "Male\n",
      "Female\n"
     ]
    }
   ],
   "source": [
    "class person:\n",
    "    def getgender(self):\n",
    "        print('Person class')\n",
    "class Male(person):\n",
    "    def getgender(self):\n",
    "        print('Male')\n",
    "    \n",
    "class Female(person):\n",
    "     def getgender(self):\n",
    "        print('Female')\n",
    "    \n",
    "obj1=Male()#for male class\n",
    "obj2=Female()#for the female class\n",
    "obj1.getgender()\n",
    "obj2.getgender()\n"
   ]
  },
  {
   "cell_type": "markdown",
   "id": "74ace360",
   "metadata": {},
   "source": [
    "# Question 5:\n",
    "Please write a program to compress and decompress the string \"hello world!hello world!hello world!hello world!\".\n"
   ]
  },
  {
   "cell_type": "code",
   "execution_count": 42,
   "id": "25f4fe42",
   "metadata": {},
   "outputs": [
    {
     "name": "stdout",
     "output_type": "stream",
     "text": [
      "b'\\x1f\\x8b\\x08\\x00\\x0f*8b\\x02\\xff\\xcbH\\xcd\\xc9\\xc9W(\\xcf/\\xcaIQ\\xcc \\x82\\r\\x00\\xd3\\xe6\\xcf\\xae0\\x00\\x00\\x00'\n",
      "b'hello world!hello world!hello world!hello world!'\n"
     ]
    }
   ],
   "source": [
    "import gzip\n",
    "inp = b\"hello world!hello world!hello world!hello world!\"\n",
    "s = gzip.compress(s)\n",
    "print(s)\n",
    "t = gzip.decompress(s)\n",
    "print(t)"
   ]
  },
  {
   "cell_type": "markdown",
   "id": "6e226542",
   "metadata": {},
   "source": [
    "# Question 4:\n",
    "Please write a program to generate all sentences where subject is in [\"I\", \"You\"] and verb is in [\"Play\", \"Love\"] and the object is in [\"Hockey\",\"Football\"].\n"
   ]
  },
  {
   "cell_type": "code",
   "execution_count": 54,
   "id": "59a329ad",
   "metadata": {},
   "outputs": [
    {
     "name": "stdout",
     "output_type": "stream",
     "text": [
      "I Play Hockey\n",
      "I Play Football\n",
      "I Love Hockey\n",
      "I Love Football\n",
      "You Play Hockey\n",
      "You Play Football\n",
      "You Love Hockey\n",
      "You Love Football\n"
     ]
    }
   ],
   "source": [
    "a=[\"I\", \"You\"]\n",
    "b=[\"Play\", \"Love\"]\n",
    "c= [\"Hockey\",\"Football\"]\n",
    "d=[]\n",
    "for i in a:\n",
    "    for j in b:\n",
    "        for k in c:\n",
    "            d.append(i+\" \"+j+\" \"+k)\n",
    "for i in d:\n",
    "    print(i)\n",
    "            "
   ]
  },
  {
   "cell_type": "markdown",
   "id": "eb9f0160",
   "metadata": {},
   "source": [
    "# Question 6:\n",
    "Please write a binary search function which searches an item in a sorted list. \n",
    "The function should return the index of element to be searched in the list."
   ]
  },
  {
   "cell_type": "code",
   "execution_count": 60,
   "id": "b5da057c",
   "metadata": {},
   "outputs": [
    {
     "name": "stdout",
     "output_type": "stream",
     "text": [
      "[1, 2, 4, 4, 8, 9, 10, 11, 12, 13]\n",
      "enter the element which needs to be searched in the above list a12\n",
      "the index of the element is 8\n"
     ]
    }
   ],
   "source": [
    "from bisect import bisect_left\n",
    " \n",
    "def BinarySearch(a, x):\n",
    "    i = bisect_left(a, x)\n",
    "    if i != len(a) and a[i] == x:\n",
    "        return i\n",
    "    else:\n",
    "        return -1\n",
    "a  = [1, 2, 4, 4, 8,9 ,10,11,12,13]#sorted list\n",
    "print(a)\n",
    "x =int(input(\"enter the element which needs to be searched in the above list a\"))\n",
    "res = BinarySearch(a, x)\n",
    "if res == -1:\n",
    "    print(x, \"is absent\")\n",
    "else:\n",
    "    print( \"the index of the element is\", res)"
   ]
  }
 ],
 "metadata": {
  "kernelspec": {
   "display_name": "Python 3 (ipykernel)",
   "language": "python",
   "name": "python3"
  },
  "language_info": {
   "codemirror_mode": {
    "name": "ipython",
    "version": 3
   },
   "file_extension": ".py",
   "mimetype": "text/x-python",
   "name": "python",
   "nbconvert_exporter": "python",
   "pygments_lexer": "ipython3",
   "version": "3.9.7"
  }
 },
 "nbformat": 4,
 "nbformat_minor": 5
}
