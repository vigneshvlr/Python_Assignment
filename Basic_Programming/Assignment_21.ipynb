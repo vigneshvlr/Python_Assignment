{
 "cells": [
  {
   "cell_type": "markdown",
   "id": "99e7a662",
   "metadata": {},
   "source": [
    "# Question1\n",
    "Write a function that takes a list and a number as arguments. Add the number to the end of the list, then remove the first element of the list. The function should then return the updated list.\n",
    "Examples\n",
    "next_in_line([5, 6, 7, 8, 9], 1) ➞ [6, 7, 8, 9, 1]\n",
    "|\n",
    "next_in_line([7, 6, 3, 23, 17], 10) ➞ [6, 3, 23, 17, 10]\n",
    "\n",
    "next_in_line([1, 10, 20, 42 ], 6) ➞ [10, 20, 42, 6]\n",
    "\n",
    "next_in_line([], 6) ➞ \"No list has been selected"
   ]
  },
  {
   "cell_type": "code",
   "execution_count": 4,
   "id": "7229d38c",
   "metadata": {},
   "outputs": [
    {
     "name": "stdout",
     "output_type": "stream",
     "text": [
      "enter total elements in the list6\n",
      "4\n",
      "3\n",
      "6\n",
      "7\n",
      "1\n",
      "90\n",
      "enter the element to append at the end of the list\n",
      "0\n"
     ]
    },
    {
     "data": {
      "text/plain": [
       "[3, 6, 7, 1, 90, 1]"
      ]
     },
     "execution_count": 4,
     "metadata": {},
     "output_type": "execute_result"
    }
   ],
   "source": [
    "def func(a,b):\n",
    "    del(a[0])\n",
    "    a.append(b)\n",
    "    return a\n",
    "a=[]\n",
    "b=int(input(\"enter total elements in the list\"))\n",
    "for i in range(b):\n",
    "    a.append(int(input()))\n",
    "print(\"enter the element to append at the end of the list\")\n",
    "c=int(input())\n",
    "func(a,1)\n"
   ]
  },
  {
   "cell_type": "markdown",
   "id": "4685d0a8",
   "metadata": {},
   "source": [
    "# Question2\n",
    "Create the function that takes a list of dictionaries and returns the sum of people's budgets.\n",
    "Examples\n",
    "get_budgets([\n",
    "  { \"name\": \"John\", \"age\": 21, \"budget\": 23000 },\n",
    "  { \"name\": \"Steve\",  \"age\": 32, \"budget\": 40000 },\n",
    "  { \"name\": \"Martin\",  \"age\": 16, \"budget\": 2700 }\n",
    "]) ➞ 65700\n",
    "\n",
    "get_budgets([\n",
    "  { \"name\": \"John\",  \"age\": 21, \"budget\": 29000 },\n",
    "  { \"name\": \"Steve\",  \"age\": 32, \"budget\": 32000 },\n",
    "  { \"name\": \"Martin\",  \"age\": 16, \"budget\": 1600 }\n",
    "]) ➞ 62600\n"
   ]
  },
  {
   "cell_type": "code",
   "execution_count": 1,
   "id": "dea48b57",
   "metadata": {},
   "outputs": [
    {
     "data": {
      "text/plain": [
       "65700"
      ]
     },
     "execution_count": 1,
     "metadata": {},
     "output_type": "execute_result"
    }
   ],
   "source": [
    "c=[\n",
    "  { \"name\": \"John\", \"age\": 21, \"budget\": 23000 },\n",
    "  { \"name\": \"Steve\",  \"age\": 32, \"budget\": 40000 },\n",
    "  { \"name\": \"Martin\",  \"age\": 16, \"budget\": 2700 }\n",
    "    \n",
    "] \n",
    "def get_budgets(c):\n",
    "    sum=0\n",
    "    for i in range(0,len(c)):\n",
    "         sum=sum+c[i]['budget']\n",
    "    return sum\n",
    "print(\"the total budget in the above dictionary is:\")\n",
    "get_budgets(c)\n",
    "\n",
    "\n"
   ]
  },
  {
   "cell_type": "markdown",
   "id": "cde495be",
   "metadata": {},
   "source": [
    "# Question3\n",
    "Create a function that takes a string and returns a string with its letters in alphabetical order.\n",
    "Examples\n",
    "alphabet_soup(\"hello\") ➞ \"ehllo\"\n",
    "\n",
    "alphabet_soup(\"edabit\") ➞ \"abdeit\"\n",
    "\n",
    "alphabet_soup(\"hacker\") ➞ \"acehkr\"\n",
    "alphabet_soup(\"geek\") ➞ \"eegk\"\n",
    "\n",
    "alphabet_soup(\"javascript\") ➞ \"aacijprstv\""
   ]
  },
  {
   "cell_type": "code",
   "execution_count": 42,
   "id": "c5963e63",
   "metadata": {},
   "outputs": [],
   "source": [
    "def func(c):\n",
    "    c=sorted(c)\n",
    "    d=''\n",
    "    for i in c:\n",
    "        d=d+i\n",
    "    return d"
   ]
  },
  {
   "cell_type": "code",
   "execution_count": 43,
   "id": "d46bef7e",
   "metadata": {},
   "outputs": [
    {
     "name": "stdout",
     "output_type": "stream",
     "text": [
      "enter a stringhacker\n"
     ]
    },
    {
     "data": {
      "text/plain": [
       "'acehkr'"
      ]
     },
     "execution_count": 43,
     "metadata": {},
     "output_type": "execute_result"
    }
   ],
   "source": [
    "c=input(\"enter a string\")\n",
    "func(c)"
   ]
  },
  {
   "cell_type": "markdown",
   "id": "ccc226af",
   "metadata": {},
   "source": [
    "# Question4\n",
    "Suppose that you invest $10,000 for 10 years at an interest rate of 6% compounded monthly. What will be the value of your investment at the end of the 10 year period?\n",
    "Create a function that accepts the principal p, the term in years t, the interest rate r, and the number of compounding periods per year n. The function returns the value at the end of term rounded to the nearest cent.\n",
    "For the example above:\n",
    "compound_interest(10000, 10, 0.06, 12) ➞ 18193.97\n",
    "Note that the interest rate is given as a decimal and n=12 because with monthly compounding there are 12 periods per year. Compounding can also be done annually, quarterly, weekly, or daily.\n"
   ]
  },
  {
   "cell_type": "code",
   "execution_count": 9,
   "id": "84347935",
   "metadata": {},
   "outputs": [
    {
     "name": "stdout",
     "output_type": "stream",
     "text": [
      "enter principle1000\n",
      "enter the term in years t12\n",
      "enter the interest rate r1\n",
      "enter the number of compounding periods per year n1\n"
     ]
    },
    {
     "data": {
      "text/plain": [
       "2000.0"
      ]
     },
     "execution_count": 9,
     "metadata": {},
     "output_type": "execute_result"
    }
   ],
   "source": [
    "def compund_interest(p,t,r,n):\n",
    "    a=p*(1+(r/n))\n",
    "    b=n\n",
    "    result=a*n\n",
    "    return result\n",
    "p=float(input(\"enter principle\"))\n",
    "t=int(input(\"enter the term in years t\"))\n",
    "r=float(input(\"enter the interest rate r\"))\n",
    "n=int(input(\"enter the number of compounding periods per year n\"))\n",
    "compund_interest(p,t,r,n)\n",
    "\n",
    "    \n",
    "    \n",
    "    "
   ]
  },
  {
   "cell_type": "markdown",
   "id": "0afba344",
   "metadata": {},
   "source": [
    "# Question5\n",
    "Write a function that takes a list of elements and returns only the integers.\n",
    "Examples\n",
    "return_only_integer([9, 2, \"space\", \"car\", \"lion\", 16]) ➞ [9, 2, 16]\n",
    "\n",
    "return_only_integer([\"hello\", 81, \"basketball\", 123, \"fox\"]) ➞ [81, 123]\n",
    "\n",
    "return_only_integer([10, \"121\", 56, 20, \"car\", 3, \"lion\"]) ➞ [10, 56, 20, 3]\n",
    "\n",
    "return_only_integer([\"String\",  True,  3.3,  1]) ➞ [1]\n"
   ]
  },
  {
   "cell_type": "code",
   "execution_count": 50,
   "id": "a9abbf77",
   "metadata": {},
   "outputs": [],
   "source": [
    "a=[9, 2, \"space\", \"car\", \"lion\", 16]\n",
    "b=[\"hello\", 81, \"basketball\", 123, \"fox\"]\n",
    "c=[10, \"121\", 56, 20, \"car\", 3, \"lion\"]\n",
    "d=[\"String\", True, 3.3, 1]"
   ]
  },
  {
   "cell_type": "code",
   "execution_count": 51,
   "id": "254468c0",
   "metadata": {},
   "outputs": [
    {
     "name": "stdout",
     "output_type": "stream",
     "text": [
      "[9, 2, 16]\n",
      "[81, 123]\n",
      "[10, 56, 20, 3]\n"
     ]
    }
   ],
   "source": [
    "def func(l):\n",
    "    c=[]\n",
    "    for i in l:\n",
    "        if type(i)==int:\n",
    "            c.append(i)\n",
    "    return c\n",
    "print(func(a))\n",
    "print(func(b))\n",
    "print(func(c))"
   ]
  },
  {
   "cell_type": "code",
   "execution_count": null,
   "id": "3264ea93",
   "metadata": {},
   "outputs": [],
   "source": []
  },
  {
   "cell_type": "code",
   "execution_count": null,
   "id": "0953c175",
   "metadata": {},
   "outputs": [],
   "source": []
  }
 ],
 "metadata": {
  "kernelspec": {
   "display_name": "Python 3 (ipykernel)",
   "language": "python",
   "name": "python3"
  },
  "language_info": {
   "codemirror_mode": {
    "name": "ipython",
    "version": 3
   },
   "file_extension": ".py",
   "mimetype": "text/x-python",
   "name": "python",
   "nbconvert_exporter": "python",
   "pygments_lexer": "ipython3",
   "version": "3.9.7"
  }
 },
 "nbformat": 4,
 "nbformat_minor": 5
}
