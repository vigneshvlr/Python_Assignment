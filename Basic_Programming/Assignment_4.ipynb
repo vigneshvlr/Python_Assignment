{
 "cells": [
  {
   "cell_type": "markdown",
   "id": "b67be063",
   "metadata": {},
   "source": [
    "1.\tWrite a Python Program to Find the Factorial of a Number?\n",
    "2.\tWrite a Python Program to Display the multiplication Table?\n",
    "3.\tWrite a Python Program to Print the Fibonacci sequence?\n",
    "4.\tWrite a Python Program to Check Armstrong Number?\n",
    "5.\tWrite a Python Program to Find Armstrong Number in an Interval?\n",
    "6.\tWrite a Python Program to Find the Sum of Natural Numbers?\n"
   ]
  },
  {
   "cell_type": "markdown",
   "id": "9b1588b7",
   "metadata": {},
   "source": [
    "1.Write a Python Program to Find the Factorial of a Number?"
   ]
  },
  {
   "cell_type": "code",
   "execution_count": 4,
   "id": "ca08fc90",
   "metadata": {},
   "outputs": [
    {
     "name": "stdout",
     "output_type": "stream",
     "text": [
      "enter a number greater then 0 4\n",
      "24\n"
     ]
    }
   ],
   "source": [
    "a=int(input(\"enter a number greater then 0 \"))\n",
    "fact=1\n",
    "for i in range(1,(a+1)):\n",
    "    fact=fact*i\n",
    "print(fact)"
   ]
  },
  {
   "cell_type": "raw",
   "id": "08fb398e",
   "metadata": {},
   "source": [
    "2.Write a Python Program to Display the multiplication Table?"
   ]
  },
  {
   "cell_type": "code",
   "execution_count": 7,
   "id": "010cc98b",
   "metadata": {},
   "outputs": [
    {
     "name": "stdout",
     "output_type": "stream",
     "text": [
      "enter the table which you want to display9\n",
      "enter the lengeth of the table which you want to display9\n",
      "9 * 1 = 9\n",
      "9 * 2 = 18\n",
      "9 * 3 = 27\n",
      "9 * 4 = 36\n",
      "9 * 5 = 45\n",
      "9 * 6 = 54\n",
      "9 * 7 = 63\n",
      "9 * 8 = 72\n",
      "9 * 9 = 81\n"
     ]
    }
   ],
   "source": [
    "a=int(input(\"enter the table which you want to display\"))\n",
    "b=int(input(\"enter the lengeth of the table which you want to display\"))\n",
    "for i in range(1,(b+1)):\n",
    "    print(a,'*',i,'=',a*i)"
   ]
  },
  {
   "cell_type": "markdown",
   "id": "432c5cc7",
   "metadata": {},
   "source": [
    "3.Write a Python Program to Print the Fibonacci sequence?"
   ]
  },
  {
   "cell_type": "code",
   "execution_count": null,
   "id": "67a97f3f",
   "metadata": {},
   "outputs": [],
   "source": [
    "def  Fibonacci(n):\n",
    "    a=0\n",
    "    b=1\n",
    "    c=0\n",
    "    print(a)\n",
    "    print(b)\n",
    "   \n",
    "    for i in range(3,(n+1)):\n",
    "        c=a+b\n",
    "        a=b\n",
    "        b=c\n",
    "        print(c)\n",
    "c=int(input(\"enter the length of fabonnaci\"))\n",
    "Fibonacci(c)\n",
    "        \n",
    "        "
   ]
  },
  {
   "cell_type": "markdown",
   "id": "a30d6690",
   "metadata": {},
   "source": [
    "4.Write a Python Program to Check Armstrong Number?"
   ]
  },
  {
   "cell_type": "code",
   "execution_count": 24,
   "id": "f14efdc0",
   "metadata": {},
   "outputs": [
    {
     "name": "stdout",
     "output_type": "stream",
     "text": [
      "enter a number to check if it is a amstrong or not123\n",
      "it is not a amstrong number\n"
     ]
    }
   ],
   "source": [
    "a=int(input(\"enter a number to check if it is a amstrong or not\"))\n",
    "val=a\n",
    "c=a\n",
    "d=0\n",
    "count=0\n",
    "output=0\n",
    "while c>0:\n",
    "    c=int(c/10)\n",
    "    count=count+1\n",
    "for i in  range(1,count+1):\n",
    "    d=int(a%10)\n",
    "    a=a/10\n",
    "    output=output+ (d**count)\n",
    "if output==val :\n",
    "    print('it is a amstrong')\n",
    "else:\n",
    "    print(\"it is not a amstrong number\")"
   ]
  },
  {
   "cell_type": "markdown",
   "id": "3bd37dbc",
   "metadata": {},
   "source": [
    "5.Write a Python Program to Find Armstrong Number in an Interval?"
   ]
  },
  {
   "cell_type": "code",
   "execution_count": 4,
   "id": "5f960e4e",
   "metadata": {},
   "outputs": [
    {
     "name": "stdout",
     "output_type": "stream",
     "text": [
      "enter a number1100\n",
      "enter a number21999\n",
      "below are the amstrong in the given range\n",
      "153\n",
      "370\n",
      "371\n",
      "407\n",
      "1634\n"
     ]
    }
   ],
   "source": [
    "def isamstrong(a):\n",
    "  \n",
    "    val=a\n",
    "    c=a\n",
    "    d=0\n",
    "    count=0\n",
    "    output=0\n",
    "    while c>0:\n",
    "        c=int(c/10)\n",
    "        count=count+1\n",
    "    for i in  range(1,count+1):\n",
    "        d=int(a%10)\n",
    "        a=a/10\n",
    "        output=output+ (d**count)\n",
    "    if output==val:\n",
    "        return 1\n",
    "    else:\n",
    "        return 0\n",
    "         \n",
    "val1=int(input(\"enter a number1\"))\n",
    "val2=int(input(\"enter a number2\"))\n",
    "print('below are the amstrong in the given range')\n",
    "for i in range(val1,val2):\n",
    "    c=isamstrong(i)\n",
    "    if c==1:\n",
    "        print(i)\n",
    "    "
   ]
  },
  {
   "cell_type": "markdown",
   "id": "bd8cacef",
   "metadata": {},
   "source": [
    "6.Write a Python Program to Find the Sum of Natural Numbers?"
   ]
  },
  {
   "cell_type": "code",
   "execution_count": 7,
   "id": "f2a3afb0",
   "metadata": {},
   "outputs": [
    {
     "name": "stdout",
     "output_type": "stream",
     "text": [
      "enter a number to find the sum of the natural numbers till that number3\n",
      "sum of the natural number is 6\n"
     ]
    }
   ],
   "source": [
    "a=int(input(\"enter a number to find the sum of the natural numbers till that number\"))\n",
    "sum=0\n",
    "for i in range(0,(a+1)):\n",
    "    sum=sum+i\n",
    "print(\"sum of the natural number is\",sum)"
   ]
  },
  {
   "cell_type": "code",
   "execution_count": null,
   "id": "f8feea39",
   "metadata": {},
   "outputs": [],
   "source": []
  }
 ],
 "metadata": {
  "kernelspec": {
   "display_name": "Python 3 (ipykernel)",
   "language": "python",
   "name": "python3"
  },
  "language_info": {
   "codemirror_mode": {
    "name": "ipython",
    "version": 3
   },
   "file_extension": ".py",
   "mimetype": "text/x-python",
   "name": "python",
   "nbconvert_exporter": "python",
   "pygments_lexer": "ipython3",
   "version": "3.9.7"
  }
 },
 "nbformat": 4,
 "nbformat_minor": 5
}
