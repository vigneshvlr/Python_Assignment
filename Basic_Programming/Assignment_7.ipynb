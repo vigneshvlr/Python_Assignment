{
 "cells": [
  {
   "cell_type": "markdown",
   "id": "a17717a9",
   "metadata": {},
   "source": [
    "1.\tWrite a Python Program to find sum of array?\n",
    "2.\tWrite a Python Program to find largest element in an array?\n",
    "3.\tWrite a Python Program for array rotation?\n",
    "4.\tWrite a Python Program to Split the array and add the first part to the end?\n",
    "5.\tWrite a Python Program to check if given array is Monotonic?\n"
   ]
  },
  {
   "cell_type": "markdown",
   "id": "316f8eb5",
   "metadata": {},
   "source": [
    "1.Write a Python Program to find sum of array?"
   ]
  },
  {
   "cell_type": "code",
   "execution_count": 16,
   "id": "01d25208",
   "metadata": {},
   "outputs": [
    {
     "name": "stdout",
     "output_type": "stream",
     "text": [
      "enter the total elements in the array3\n",
      "enter the element one by one\n",
      "1\n",
      "2\n",
      "3\n",
      "6\n"
     ]
    }
   ],
   "source": [
    "c=int(input(\"enter the total elements in the array\"))\n",
    "l=[]\n",
    "sum=0\n",
    "print(\"enter the element one by one\")\n",
    "for i in range(0,c):\n",
    "    d=int(input())\n",
    "    l.append(d)\n",
    "for i in l:\n",
    "    sum=sum+i;\n",
    "print(\"the sum of the element in the array is',sum)\n",
    "    "
   ]
  },
  {
   "cell_type": "markdown",
   "id": "b3d9fbce",
   "metadata": {},
   "source": [
    "2.Write a Python Program to find largest element in an array?"
   ]
  },
  {
   "cell_type": "code",
   "execution_count": 3,
   "id": "3b5a364e",
   "metadata": {},
   "outputs": [
    {
     "name": "stdout",
     "output_type": "stream",
     "text": [
      "enter the total elements in the array3\n",
      "enter the element one by one\n",
      "900\n",
      "1\n",
      "2\n",
      "the largest element is: 900\n"
     ]
    }
   ],
   "source": [
    "c=int(input(\"enter the total elements in the array\"))\n",
    "l=[]\n",
    "greater=0\n",
    "print(\"enter the element one by one\")\n",
    "for i in range(0,c):\n",
    "    d=int(input())\n",
    "    l.append(d)\n",
    "l.sort()\n",
    "print(\"the largest element is:\",l[c-1])\n",
    "\n",
    "    \n",
    "    \n",
    "    "
   ]
  },
  {
   "cell_type": "markdown",
   "id": "e71c38ef",
   "metadata": {},
   "source": [
    "3.Write a Python Program for array rotation?"
   ]
  },
  {
   "cell_type": "code",
   "execution_count": 7,
   "id": "b3429a4d",
   "metadata": {},
   "outputs": [
    {
     "name": "stdout",
     "output_type": "stream",
     "text": [
      "enter the total elements in the array5\n",
      "enter the element one by one\n",
      "1\n",
      "2\n",
      "3\n",
      "4\n",
      "5\n",
      "before rotation [1, 2, 3, 4, 5]\n",
      "enter number of elements to be rotated\n",
      "3\n",
      "after rotation [4, 5, 1, 2, 3]\n"
     ]
    }
   ],
   "source": [
    "def arr_rotation(n,a):\n",
    "    c=n[a:]+n[0:a]\n",
    "    return c\n",
    "\n",
    "c=int(input(\"enter the total elements in the array\"))\n",
    "l=[]\n",
    "print(\"enter the element one by one\")\n",
    "for i in range(0,c):\n",
    "    d=int(input())\n",
    "    l.append(d)\n",
    "print('before rotation',l)\n",
    "print(\"enter number of elements to be rotated\")\n",
    "a=int(input())\n",
    "print('after rotation',arr_rotation(l,a))"
   ]
  },
  {
   "cell_type": "markdown",
   "id": "59c02a54",
   "metadata": {},
   "source": [
    "Write a Python Program to Split the array and add the first part to the end?"
   ]
  },
  {
   "cell_type": "code",
   "execution_count": 5,
   "id": "284ec843",
   "metadata": {},
   "outputs": [
    {
     "name": "stdout",
     "output_type": "stream",
     "text": [
      "enter the total elements in the array5\n",
      "enter the element one by one\n",
      "1\n",
      "2\n",
      "3\n",
      "4\n",
      "5\n",
      "after spiliting and add the first part to the end\n",
      "[3, 4, 5, 1, 2]\n"
     ]
    }
   ],
   "source": [
    "def arr(l):\n",
    "    d=len(l)\n",
    "    c=l[int(d/2):d]+l[0:int(d/2)]\n",
    "    return c\n",
    "c=int(input(\"enter the total elements in the array\"))\n",
    "l=[]\n",
    "print(\"enter the element one by one\")\n",
    "for i in range(0,c):\n",
    "    d=int(input())\n",
    "    l.append(d)\n",
    "print('after spiliting and add the first part to the end')\n",
    "print(arr(l))\n",
    "\n"
   ]
  },
  {
   "cell_type": "markdown",
   "id": "702e864c",
   "metadata": {},
   "source": [
    "5.Write a Python Program to check if given array is Monotonic?"
   ]
  },
  {
   "cell_type": "code",
   "execution_count": 7,
   "id": "068e8c4f",
   "metadata": {},
   "outputs": [
    {
     "name": "stdout",
     "output_type": "stream",
     "text": [
      "True\n",
      "True\n",
      "False\n"
     ]
    }
   ],
   "source": [
    "def isMonotonic(A):\n",
    "  \n",
    "    return (all(A[i] <= A[i + 1] for i in range(len(A) - 1)) or\n",
    "            all(A[i] >= A[i + 1] for i in range(len(A) - 1)))\n",
    "a=[1,2,3,4]\n",
    "b=[10,7,6]\n",
    "c=[1,9,1]\n",
    "print(isMonotonic(a))\n",
    "print(isMonotonic(b))\n",
    "print(isMonotonic(c))\n",
    "  "
   ]
  },
  {
   "cell_type": "code",
   "execution_count": null,
   "id": "2fc14249",
   "metadata": {},
   "outputs": [],
   "source": []
  }
 ],
 "metadata": {
  "kernelspec": {
   "display_name": "Python 3 (ipykernel)",
   "language": "python",
   "name": "python3"
  },
  "language_info": {
   "codemirror_mode": {
    "name": "ipython",
    "version": 3
   },
   "file_extension": ".py",
   "mimetype": "text/x-python",
   "name": "python",
   "nbconvert_exporter": "python",
   "pygments_lexer": "ipython3",
   "version": "3.9.7"
  }
 },
 "nbformat": 4,
 "nbformat_minor": 5
}
