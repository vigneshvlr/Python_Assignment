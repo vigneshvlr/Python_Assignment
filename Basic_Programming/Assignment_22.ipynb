{
 "cells": [
  {
   "cell_type": "markdown",
   "id": "6c327eff",
   "metadata": {},
   "source": [
    "# Question1\n",
    "Create a function that takes three parameters where:\n",
    "x is the start of the range (inclusive).\n",
    "y is the end of the range (inclusive).\n",
    "n is the divisor to be checked against.\n",
    "Return an ordered list with numbers in the range that are divisible by the third parameter n. Return an empty list if there are no numbers that are divisible by n.\n",
    "Examples\n",
    "list_operation(1, 10, 3) ➞ [3, 6, 9]\n",
    "\n",
    "list_operation(7, 9, 2) ➞ [8]\n",
    "\n",
    "list_operation(15, 20, 7) ➞ []\n",
    "\n"
   ]
  },
  {
   "cell_type": "code",
   "execution_count": 7,
   "id": "ff7d6d05",
   "metadata": {},
   "outputs": [
    {
     "name": "stdout",
     "output_type": "stream",
     "text": [
      "enter x7\n",
      "enter y9\n",
      "enter n2\n"
     ]
    },
    {
     "data": {
      "text/plain": [
       "[8]"
      ]
     },
     "execution_count": 7,
     "metadata": {},
     "output_type": "execute_result"
    }
   ],
   "source": [
    "def func(x,y,n):\n",
    "    l=[]\n",
    "    for i in range(x,(y+1)):\n",
    "        if i%n==0:\n",
    "            l.append(i)\n",
    "    return l\n",
    "x=int(input(\"enter x\"))\n",
    "y=int(input(\"enter y\"))\n",
    "n=int(input(\"enter n\"))\n",
    "func(x,y,n)"
   ]
  },
  {
   "cell_type": "markdown",
   "id": "0af25056",
   "metadata": {},
   "source": [
    "# Question2\n",
    "Create a function that takes in two lists and returns True if the second list follows the first list by one element, and False otherwise. In other words, determine if the second list is the first list shifted to the right by 1.\n",
    "Examples\n",
    "simon_says([1, 2], [5, 1]) ➞ True\n",
    "\n",
    "simon_says([1, 2], [5, 5]) ➞ False\n",
    "\n",
    "simon_says([1, 2, 3, 4, 5], [0, 1, 2, 3, 4]) ➞ True\n",
    "\n",
    "simon_says([1, 2, 3, 4, 5], [5, 5, 1, 2, 3]) ➞ False\n",
    "Notes\n",
    "Both input lists will be of the same length, and will have a minimum length of 2.\n",
    "The values of the 0-indexed element in the second list and the n-1th indexed element in the first list do not matter.\n"
   ]
  },
  {
   "cell_type": "code",
   "execution_count": 21,
   "id": "d3051c99",
   "metadata": {},
   "outputs": [
    {
     "name": "stdout",
     "output_type": "stream",
     "text": [
      "for the the l1 and l2 list  [1, 2] [5, 1] : True\n",
      "for the the l3 and l4 list  [1, 2, 3, 4, 5] [0, 1, 2, 3, 4] : True\n",
      "for the l4 and l5 list [1, 2, 3, 4, 5] [5, 5, 1, 2, 3] : False\n"
     ]
    }
   ],
   "source": [
    "def func(a,b):\n",
    "    a=a[0:(len(a)-1):]\n",
    "    b=b[1:]\n",
    "    if a==b:\n",
    "        return True\n",
    "    else:\n",
    "        return False\n",
    "l1=[1,2]\n",
    "l2=[5, 1]\n",
    "l3=[1, 2, 3, 4, 5]\n",
    "l4=[0, 1, 2, 3, 4]\n",
    "l5=[1, 2, 3, 4, 5]\n",
    "l6= [5, 5, 1, 2, 3]\n",
    "print(\"for the the l1 and l2 list \",l1 ,l2,':',func(l1,l2))\n",
    "\n",
    "print(\"for the the l3 and l4 list \",l3 ,l4,':',func(l3,l4))\n",
    "print(\"for the l4 and l5 list\",l5,l6,':',func(l5,l6))"
   ]
  },
  {
   "cell_type": "markdown",
   "id": "66e4fb6e",
   "metadata": {},
   "source": [
    "# Question3\n",
    "A group of friends have decided to start a secret society. The name will be the first letter of each of their names, sorted in alphabetical order.\n",
    "Create a function that takes in a list of names and returns the name of the secret society.\n",
    "Examples\n",
    "society_name([\"Adam\", \"Sarah\", \"Malcolm\"]) ➞ \"AMS\"\n",
    "\n",
    "society_name([\"Harry\", \"Newt\", \"Luna\", \"Cho\"]) ➞ \"CHLN\"\n",
    "\n",
    "society_name([\"Phoebe\", \"Chandler\", \"Rachel\", \"Ross\", \"Monica\", \"Joey\"])\n"
   ]
  },
  {
   "cell_type": "code",
   "execution_count": 37,
   "id": "9221811a",
   "metadata": {},
   "outputs": [
    {
     "name": "stdout",
     "output_type": "stream",
     "text": [
      "enter total elements you going enter in a list4\n",
      "enter elements one by one\n",
      "Harry\n",
      "lorry\n",
      "mari\n",
      "soori\n",
      "output After taking first elemnts from the list: Hlms\n"
     ]
    }
   ],
   "source": [
    "def func(l):\n",
    "    a=''\n",
    "    for i in l:\n",
    "        a=a+i[0]\n",
    "    c=sorted(a)\n",
    "    d=''\n",
    "    for i in c:\n",
    "        d=d+i\n",
    "    return d\n",
    "        \n",
    "c=int(input(\"enter total elements you going enter in a list\"))\n",
    "print(\"enter elements one by one\")\n",
    "l=[]\n",
    "\n",
    "for i in range(c):\n",
    "    l.append(input())\n",
    "print(\"output After taking first elemnts from the list:\",func(l))\n",
    "    "
   ]
  },
  {
   "cell_type": "markdown",
   "id": "5d21632a",
   "metadata": {},
   "source": [
    "# "
   ]
  },
  {
   "cell_type": "markdown",
   "id": "243e08b9",
   "metadata": {},
   "source": [
    "# Question4\n",
    "An isogram is a word that has no duplicate letters. Create a function that takes a string and returns either True or False depending on whether or not it's an \"isogram\".\n",
    "Examples\n",
    "is_isogram(\"Algorism\") ➞ True\n",
    "\n",
    "is_isogram(\"PasSword\") ➞ False\n",
    "# Not case sensitive.\n",
    "\n",
    "is_isogram(\"Consecutive\") ➞ False\n",
    "Notes\n",
    "Ignore letter case (should not be case sensitive).\n",
    "All test cases contain valid one word strings.\n",
    "\n",
    "\n"
   ]
  },
  {
   "cell_type": "code",
   "execution_count": 49,
   "id": "ae36e961",
   "metadata": {},
   "outputs": [
    {
     "name": "stdout",
     "output_type": "stream",
     "text": [
      "enter a stringPasSword\n"
     ]
    },
    {
     "data": {
      "text/plain": [
       "False"
      ]
     },
     "execution_count": 49,
     "metadata": {},
     "output_type": "execute_result"
    }
   ],
   "source": [
    "def is_in_order(a):\n",
    "    a=a.lower()\n",
    "    for i in a:\n",
    "        if a.count(i)>1:\n",
    "            return False\n",
    "    return True\n",
    "a=input(\"enter a string\")\n",
    "is_in_order(a)\n"
   ]
  },
  {
   "cell_type": "markdown",
   "id": "1a04f9a1",
   "metadata": {},
   "source": [
    "# Question5\n",
    "Create a function that takes a string and returns True or False, depending on whether the characters are in order or not.\n",
    "Examples\n",
    "is_in_order(\"abc\") ➞ True\n",
    "\n",
    "is_in_order(\"edabit\") ➞ False\n",
    "\n",
    "is_in_order(\"123\") ➞ True\n",
    "\n",
    "is_in_order(\"xyzz\") ➞ True\n",
    "Notes\n",
    "You don't have to handle empty strings"
   ]
  },
  {
   "cell_type": "code",
   "execution_count": 73,
   "id": "7e5d0166",
   "metadata": {},
   "outputs": [
    {
     "name": "stdout",
     "output_type": "stream",
     "text": [
      "enter a string to check if it is in order or notxzzzzz\n",
      "xzzzzz\n"
     ]
    },
    {
     "data": {
      "text/plain": [
       "True"
      ]
     },
     "execution_count": 73,
     "metadata": {},
     "output_type": "execute_result"
    }
   ],
   "source": [
    "def funct(a):\n",
    "    a=a.lower()\n",
    "    b=sorted(a)\n",
    "    c=''\n",
    "    c=c.join(b)\n",
    "    print(c)\n",
    "    if a==c:\n",
    "        return True\n",
    "    else:\n",
    "        return False\n",
    "c=input(\"enter a string to check if it is in order or not\")\n",
    "funct(c)"
   ]
  }
 ],
 "metadata": {
  "kernelspec": {
   "display_name": "Python 3 (ipykernel)",
   "language": "python",
   "name": "python3"
  },
  "language_info": {
   "codemirror_mode": {
    "name": "ipython",
    "version": 3
   },
   "file_extension": ".py",
   "mimetype": "text/x-python",
   "name": "python",
   "nbconvert_exporter": "python",
   "pygments_lexer": "ipython3",
   "version": "3.9.7"
  }
 },
 "nbformat": 4,
 "nbformat_minor": 5
}
