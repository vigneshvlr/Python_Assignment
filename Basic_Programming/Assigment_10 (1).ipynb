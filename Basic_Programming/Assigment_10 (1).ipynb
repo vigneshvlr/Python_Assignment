{
 "cells": [
  {
   "cell_type": "markdown",
   "id": "a1e2fb52",
   "metadata": {},
   "source": [
    "1.\tWrite a Python program to find sum of elements in list?\n",
    "2.\tWrite a Python program to  Multiply all numbers in the list?\n",
    "3.\tWrite a Python program to find smallest number in a list?\n",
    "4.\tWrite a Python program to find largest number in a list?\n",
    "5.\tWrite a Python program to find second largest number in a list?\n",
    "6.\tWrite a Python program to find N largest elements from a list?\n",
    "7.\tWrite a Python program to print even numbers in a list?\n",
    "8.\tWrite a Python program to print odd numbers in a List?\n",
    "9.\tWrite a Python program to Remove empty List from List?\n",
    "10.\tWrite a Python program to Cloning or Copying a list?\n",
    "11.\tWrite a Python program to Count occurrences of an element in a list?\n"
   ]
  },
  {
   "cell_type": "markdown",
   "id": "40996625",
   "metadata": {},
   "source": [
    "1.Write a Python program to find sum of elements in list"
   ]
  },
  {
   "cell_type": "code",
   "execution_count": 11,
   "id": "9a8efd9f",
   "metadata": {},
   "outputs": [
    {
     "name": "stdout",
     "output_type": "stream",
     "text": [
      "enter the total number element in a list4\n",
      "enter element one by one\n",
      "1\n",
      "2\n",
      "3\n",
      "4\n",
      "the sum of the elements in the above given  list is 10\n"
     ]
    }
   ],
   "source": [
    "l=[]\n",
    "c=0\n",
    "j=int(input(\"enter the total number element in a list\"))\n",
    "print(\"enter element one by one\")\n",
    "for i in range(0,j):\n",
    "    c=int(input())\n",
    "    l.append(c)\n",
    "sum=0\n",
    "for i in l:\n",
    "    sum=sum+i\n",
    "print(\"the sum of the elements in the above given  list is\",sum)"
   ]
  },
  {
   "cell_type": "markdown",
   "id": "354aa04a",
   "metadata": {},
   "source": [
    "2.Write a Python program to Multiply all numbers in the list?"
   ]
  },
  {
   "cell_type": "code",
   "execution_count": 6,
   "id": "de9c5f2c",
   "metadata": {},
   "outputs": [
    {
     "name": "stdout",
     "output_type": "stream",
     "text": [
      "the output is 24\n"
     ]
    }
   ],
   "source": [
    "l=[1,2,3,4]\n",
    "mul=1\n",
    "for i in l:\n",
    "    mul=mul*i\n",
    "print(\"the output is\",mul)"
   ]
  },
  {
   "cell_type": "markdown",
   "id": "91bca9df",
   "metadata": {},
   "source": [
    "3.Write a Python program to find smallest number in a list?"
   ]
  },
  {
   "cell_type": "code",
   "execution_count": 12,
   "id": "f8a59994",
   "metadata": {},
   "outputs": [
    {
     "name": "stdout",
     "output_type": "stream",
     "text": [
      "enter the total number element in a list5\n",
      "enter element one by one\n",
      "90\n",
      "1\n",
      "2\n",
      "92\n",
      "12\n",
      "the smallest number in the list l is 1\n"
     ]
    }
   ],
   "source": [
    "l=[]\n",
    "c=0\n",
    "j=int(input(\"enter the total number element in a list\"))\n",
    "print(\"enter element one by one\")\n",
    "for i in range(0,j):\n",
    "    c=int(input())\n",
    "    l.append(c)\n",
    "l.sort()\n",
    "print(\"the smallest number in the list l is\",l[0])"
   ]
  },
  {
   "cell_type": "markdown",
   "id": "94333fbc",
   "metadata": {},
   "source": [
    "4.Write a Python program to find largest number in a list"
   ]
  },
  {
   "cell_type": "code",
   "execution_count": 13,
   "id": "611eff25",
   "metadata": {},
   "outputs": [
    {
     "name": "stdout",
     "output_type": "stream",
     "text": [
      "enter the total number element in a list3\n",
      "enter element one by one\n",
      "3\n",
      "99\n",
      "1\n",
      "the smallest number in the list l is 99\n"
     ]
    }
   ],
   "source": [
    "l=[]\n",
    "c=0\n",
    "j=int(input(\"enter the total number element in a list\"))\n",
    "print(\"enter element one by one\")\n",
    "for i in range(0,j):\n",
    "    c=int(input())\n",
    "    l.append(c)\n",
    "l.sort()\n",
    "print(\"the smallest number in the list l is\",l[len(l)-1])"
   ]
  },
  {
   "cell_type": "markdown",
   "id": "5e029047",
   "metadata": {},
   "source": [
    "5.Write a Python program to find second largest number in a list?"
   ]
  },
  {
   "cell_type": "code",
   "execution_count": 14,
   "id": "8b56802b",
   "metadata": {},
   "outputs": [
    {
     "name": "stdout",
     "output_type": "stream",
     "text": [
      "enter the total number element in a list4\n",
      "enter element one by one\n",
      "12\n",
      "10\n",
      "1\n",
      "2\n",
      "the smallest number in the list l is 2\n"
     ]
    }
   ],
   "source": [
    "l=[]\n",
    "c=0\n",
    "j=int(input(\"enter the total number element in a list\"))\n",
    "print(\"enter element one by one\")\n",
    "for i in range(0,j):\n",
    "    c=int(input())\n",
    "    l.append(c)\n",
    "l.sort()\n",
    "print(\"the smallest number in the list l is\",l[1])\n"
   ]
  },
  {
   "cell_type": "markdown",
   "id": "8bd1b011",
   "metadata": {},
   "source": [
    "6.Write a Python program to find N largest elements from a list"
   ]
  },
  {
   "cell_type": "code",
   "execution_count": 17,
   "id": "24f4e96a",
   "metadata": {},
   "outputs": [
    {
     "name": "stdout",
     "output_type": "stream",
     "text": [
      "enter the total number element in a list4\n",
      "enter element one by one\n",
      "12\n",
      "15\n",
      "13\n",
      "1\n",
      "Enter which the value of N to find Nth largest element\n",
      "2\n",
      "the  2  th Largest element in the is 12\n"
     ]
    }
   ],
   "source": [
    "l=[]\n",
    "c=0\n",
    "j=int(input(\"enter the total number element in a list\"))\n",
    "print(\"enter element one by one\")\n",
    "for i in range(0,j):\n",
    "    c=int(input())\n",
    "    l.append(c)\n",
    "l.sort()\n",
    "print(\"Enter which the value of N to find Nth largest element\")\n",
    "N=int(input())\n",
    "print(\"the \",N,\"nd Largest element in the is\",l[N-1])"
   ]
  },
  {
   "cell_type": "markdown",
   "id": "b432c68b",
   "metadata": {},
   "source": [
    "7.Write a Python program to print even numbers in a list?"
   ]
  },
  {
   "cell_type": "code",
   "execution_count": 36,
   "id": "dfd069fd",
   "metadata": {},
   "outputs": [
    {
     "name": "stdout",
     "output_type": "stream",
     "text": [
      "6\n",
      "[2, 4, 6, 8, 10, 12]\n"
     ]
    }
   ],
   "source": [
    "l=[]\n",
    "count=1\n",
    "j=2\n",
    "N=int(input())\n",
    "while count<=N:\n",
    "    if j%2==0:\n",
    "        l.append(j)\n",
    "        count=count+1\n",
    "        j=j+1\n",
    "    else:\n",
    "        j=j+1\n",
    "print('The List of even number is')\n",
    "print(l)"
   ]
  },
  {
   "cell_type": "markdown",
   "id": "48e01bbf",
   "metadata": {},
   "source": [
    "8.Write a Python program to print odd numbers in a List?"
   ]
  },
  {
   "cell_type": "code",
   "execution_count": 37,
   "id": "d4d4c4ad",
   "metadata": {},
   "outputs": [
    {
     "name": "stdout",
     "output_type": "stream",
     "text": [
      "3\n",
      "The List of odd number is\n",
      "[1, 3, 5]\n"
     ]
    }
   ],
   "source": [
    "l=[]\n",
    "count=1\n",
    "j=1\n",
    "N=int(input())\n",
    "while count<=N:\n",
    "    if j%2!=0:\n",
    "        l.append(j)\n",
    "        count=count+1\n",
    "        j=j+1\n",
    "    else:\n",
    "        j=j+1\n",
    "print('The List of odd number is')\n",
    "print(l)"
   ]
  },
  {
   "cell_type": "markdown",
   "id": "48e622b8",
   "metadata": {},
   "source": [
    "9.Write a Python program to Remove empty List from List?"
   ]
  },
  {
   "cell_type": "code",
   "execution_count": 52,
   "id": "54f18a38",
   "metadata": {},
   "outputs": [
    {
     "name": "stdout",
     "output_type": "stream",
     "text": [
      "After removing the empty list l\n",
      "['a', 'j', 'k', [1, 2, 3]]\n"
     ]
    }
   ],
   "source": [
    "l=[[],'a','j','k',[],[1,2,3],[]]\n",
    "for i in l:\n",
    "    if type(i)==list:\n",
    "        if len(i)==0:\n",
    "            \n",
    "            l.remove(i)\n",
    "print(\"After removing the empty list l\")\n",
    "print(l)\n",
    "\n",
    "\n",
    "        "
   ]
  },
  {
   "cell_type": "markdown",
   "id": "e8d4acb8",
   "metadata": {},
   "source": [
    "10..Write a Python program to  Copying a list"
   ]
  },
  {
   "cell_type": "code",
   "execution_count": 55,
   "id": "03c2381f",
   "metadata": {},
   "outputs": [
    {
     "name": "stdout",
     "output_type": "stream",
     "text": [
      "enter the total number element in a list3\n",
      "enter element one by one\n",
      "1\n",
      "2\n",
      "3\n",
      "after cloning into another variable\n",
      "[1, 2, 3]\n"
     ]
    }
   ],
   "source": [
    "l=[]\n",
    "c=0\n",
    "p=[]\n",
    "j=int(input(\"enter the total number element in a list\"))\n",
    "print(\"enter element one by one\")\n",
    "for i in range(0,j):\n",
    "    c=int(input())\n",
    "    l.append(c)\n",
    "p=l\n",
    "print(\"after cloning into another variable\")\n",
    "print(p)\n"
   ]
  },
  {
   "cell_type": "code",
   "execution_count": null,
   "id": "050169d3",
   "metadata": {},
   "outputs": [],
   "source": []
  }
 ],
 "metadata": {
  "kernelspec": {
   "display_name": "Python 3 (ipykernel)",
   "language": "python",
   "name": "python3"
  },
  "language_info": {
   "codemirror_mode": {
    "name": "ipython",
    "version": 3
   },
   "file_extension": ".py",
   "mimetype": "text/x-python",
   "name": "python",
   "nbconvert_exporter": "python",
   "pygments_lexer": "ipython3",
   "version": "3.9.7"
  }
 },
 "nbformat": 4,
 "nbformat_minor": 5
}
