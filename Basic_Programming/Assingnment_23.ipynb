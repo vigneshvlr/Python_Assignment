{
 "cells": [
  {
   "cell_type": "markdown",
   "id": "05148870",
   "metadata": {},
   "source": [
    "# Question 1\n",
    "Create a function that takes a number as an argument and returns True or False depending on whether the number is symmetrical or not. A number is symmetrical when it is the same as its reverse.\n",
    "Examples\n",
    "is_symmetrical(7227) ➞ True\n",
    "\n",
    "is_symmetrical(12567) ➞ False\n",
    "\n",
    "is_symmetrical(44444444) ➞ True\n",
    "\n",
    "is_symmetrical(9939) ➞ False\n",
    "\n",
    "is_symmetrical(1112111) ➞ True\n"
   ]
  },
  {
   "cell_type": "code",
   "execution_count": 18,
   "id": "1bd0434d",
   "metadata": {},
   "outputs": [
    {
     "name": "stdout",
     "output_type": "stream",
     "text": [
      "enter a number to find whether the number is symmetrical or not: 1112111\n"
     ]
    },
    {
     "data": {
      "text/plain": [
       "True"
      ]
     },
     "execution_count": 18,
     "metadata": {},
     "output_type": "execute_result"
    }
   ],
   "source": [
    "def func(a):\n",
    "    d=a\n",
    "    sum=0\n",
    "    e=0\n",
    "    while a>0:\n",
    "        e=a%10\n",
    "        a=int(a/10)\n",
    "        sum=sum*10 + e\n",
    "    \n",
    "    if sum==d:\n",
    "        return True\n",
    "    return False\n",
    "a=int(input(\"enter a number to find whether the number is symmetrical or not: \"))\n",
    "func(a)\n",
    "\n",
    "\n",
    "        \n",
    "    "
   ]
  },
  {
   "cell_type": "markdown",
   "id": "e88f53ea",
   "metadata": {},
   "source": [
    "# Question 2\n",
    "Given a string of numbers separated by a comma and space, return the product of the numbers.\n",
    "Examples\n",
    "multiply_nums(\"2, 3\") ➞ 6\n",
    "\n",
    "multiply_nums(\"1, 2, 3, 4\") ➞ 24\n",
    "\n",
    "multiply_nums(\"54, 75, 453, 0\") ➞ 0\n",
    "\n",
    "multiply_nums(\"10, -2\") ➞ -20\n"
   ]
  },
  {
   "cell_type": "code",
   "execution_count": 33,
   "id": "7ca32d73",
   "metadata": {},
   "outputs": [
    {
     "name": "stdout",
     "output_type": "stream",
     "text": [
      "enter a string of  number separated by comma and space: 1, 2, 3, 4\n"
     ]
    },
    {
     "data": {
      "text/plain": [
       "24"
      ]
     },
     "execution_count": 33,
     "metadata": {},
     "output_type": "execute_result"
    }
   ],
   "source": [
    "def multiply_nums(c):\n",
    "    d=c.split(', ')\n",
    "    c=1\n",
    "    for i in d:\n",
    "        if i.isdigit():\n",
    "            c=c*(int(i))\n",
    "    return c\n",
    "        \n",
    "c=input(\"enter a string of  number separated by comma and space: \")\n",
    "multiply_nums(c)\n",
    "\n"
   ]
  },
  {
   "cell_type": "markdown",
   "id": "4ce2a3f3",
   "metadata": {},
   "source": [
    "# Question 3\n",
    "Create a function that squares every digit of a number.\n",
    "Examples\n",
    "square_digits(9119) ➞ 811181\n",
    "\n",
    "square_digits(2483) ➞ 416649\n",
    "\n",
    "square_digits(3212) ➞ 9414\n",
    "Notes\n",
    "The function receives an integer and must return an integer"
   ]
  },
  {
   "cell_type": "code",
   "execution_count": 51,
   "id": "1b33ade4",
   "metadata": {},
   "outputs": [
    {
     "name": "stdout",
     "output_type": "stream",
     "text": [
      "enter a number3212\n"
     ]
    },
    {
     "data": {
      "text/plain": [
       "9414"
      ]
     },
     "execution_count": 51,
     "metadata": {},
     "output_type": "execute_result"
    }
   ],
   "source": [
    "def square_digits(a):\n",
    "    d=a\n",
    "    sum=0\n",
    "    l=[]\n",
    "    t=''\n",
    "    while a>0:\n",
    "        c=(a%10)**2\n",
    "        l.append(str(c))\n",
    "        a=int(a/10)\n",
    "    l=l[-1::-1]\n",
    "    t=t.join(l)\n",
    "    return int(t)\n",
    "        \n",
    "c=int(input(\"enter a number\"))\n",
    "square_digits(c)"
   ]
  },
  {
   "cell_type": "markdown",
   "id": "97e23d4b",
   "metadata": {},
   "source": [
    "# Question 4\n",
    "Create a function that sorts a list and removes all duplicate items from it.\n",
    "Examples\n",
    "setify([1, 3, 3, 5, 5]) ➞ [1, 3, 5]\n",
    "\n",
    "setify([4, 4, 4, 4]) ➞ [4]\n",
    "\n",
    "setify([5, 7, 8, 9, 10, 15]) ➞ [5, 7, 8, 9, 10, 15]\n",
    "\n",
    "setify([3, 3, 3, 2, 1]) ➞ [1, 2, 3]\n"
   ]
  },
  {
   "cell_type": "code",
   "execution_count": 91,
   "id": "12c75591",
   "metadata": {},
   "outputs": [],
   "source": [
    "def setify(a):\n",
    "    c=[]\n",
    "    for i in a:\n",
    "        if i not in c:\n",
    "            c.append(i)\n",
    "       \n",
    "    return sorted(c)\n",
    "        "
   ]
  },
  {
   "cell_type": "code",
   "execution_count": 92,
   "id": "e714c77a",
   "metadata": {},
   "outputs": [
    {
     "name": "stdout",
     "output_type": "stream",
     "text": [
      "[4]\n",
      "[5, 7, 8, 9, 10, 15]\n",
      "[1, 2, 3]\n"
     ]
    }
   ],
   "source": [
    "l1=[4,4,4,4,4]\n",
    "l2=[5,7,8,9,10,15]\n",
    "l3=[3,3,3,2,1]\n",
    "print(setify(l1))\n",
    "print(setify(l2))\n",
    "print(setify(l3))\n",
    "\n"
   ]
  },
  {
   "cell_type": "markdown",
   "id": "3609c6ad",
   "metadata": {},
   "source": [
    "# Question 5\n",
    "Create a function that returns the mean of all digits.\n",
    "Examples\n",
    "mean(42) ➞ 3\n",
    "\n",
    "mean(12345) ➞ 3\n",
    "\n",
    "mean(666) ➞ 6\n",
    "Notes\n",
    "The mean of all digits is the sum of digits / how many digits there are (e.g. mean of digits in 512 is (5+1+2)/3(number of digits) = 8/3=2).\n",
    "The mean will always be an integer.\n"
   ]
  },
  {
   "cell_type": "code",
   "execution_count": 124,
   "id": "510f6234",
   "metadata": {},
   "outputs": [],
   "source": [
    "def mean(a):\n",
    "    c=[]\n",
    "    sum=0\n",
    "    while a>0:\n",
    "        d=a%10\n",
    "        c.append(d)\n",
    "        a=int(a/10)\n",
    "    \n",
    "    for i in c:\n",
    "        sum=sum+i\n",
    "   \n",
    "    \n",
    "    sum=int(sum/(len(c)))\n",
    "    return sum"
   ]
  },
  {
   "cell_type": "code",
   "execution_count": 127,
   "id": "d3835359",
   "metadata": {},
   "outputs": [
    {
     "name": "stdout",
     "output_type": "stream",
     "text": [
      "enter a number to find the sum of means of its number 512\n"
     ]
    },
    {
     "data": {
      "text/plain": [
       "2"
      ]
     },
     "execution_count": 127,
     "metadata": {},
     "output_type": "execute_result"
    }
   ],
   "source": [
    " a=int(input(\"enter a number to find the sum of means of its number \"))\n",
    "mean(a)"
   ]
  },
  {
   "cell_type": "code",
   "execution_count": null,
   "id": "04e7090f",
   "metadata": {},
   "outputs": [],
   "source": []
  }
 ],
 "metadata": {
  "kernelspec": {
   "display_name": "Python 3 (ipykernel)",
   "language": "python",
   "name": "python3"
  },
  "language_info": {
   "codemirror_mode": {
    "name": "ipython",
    "version": 3
   },
   "file_extension": ".py",
   "mimetype": "text/x-python",
   "name": "python",
   "nbconvert_exporter": "python",
   "pygments_lexer": "ipython3",
   "version": "3.9.7"
  }
 },
 "nbformat": 4,
 "nbformat_minor": 5
}
