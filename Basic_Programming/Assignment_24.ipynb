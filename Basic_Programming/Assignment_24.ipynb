{
 "cells": [
  {
   "cell_type": "markdown",
   "id": "cc49136a",
   "metadata": {},
   "source": [
    "# Question1\n",
    "Create a function that takes an integer and returns a list from 1 to the given number, where:\n",
    "If the number can be divided evenly by 4, amplify it by 10 (i.e. return 10 times the number).\n",
    "If the number cannot be divided evenly by 4, simply return the number.\n",
    "Examples\n",
    "amplify(4) ➞ [1, 2, 3, 40]\n",
    "\n",
    "amplify(3) ➞ [1, 2, 3]\n",
    "\n",
    "amplify(25) ➞ [1, 2, 3, 40, 5, 6, 7, 80, 9, 10, 11, 120, 13, 14, 15, 160, 17, 18, 19, 200, 21, 22, 23, 240, 25]\n",
    "Notes\n",
    "The given integer will always be equal to or greater than 1.\n",
    "Include the number (see example above).\n",
    "To perform this problem with its intended purpose, try doing it with list comprehensions. If that's too difficult, just solve the challenge any way you can"
   ]
  },
  {
   "cell_type": "code",
   "execution_count": 12,
   "id": "e238fd35",
   "metadata": {},
   "outputs": [
    {
     "name": "stdout",
     "output_type": "stream",
     "text": [
      "enter a number 10\n"
     ]
    },
    {
     "data": {
      "text/plain": [
       "[0, 1, 2, 3, 40, 5, 6, 7, 80, 9, 10]"
      ]
     },
     "execution_count": 12,
     "metadata": {},
     "output_type": "execute_result"
    }
   ],
   "source": [
    "def amplify(a):\n",
    "    l=[i*10 if i%4==0 else i for i in range(0,a+1) ]\n",
    "    return l\n",
    "a=int(input(\"enter a number \"))\n",
    "amplify(a)"
   ]
  },
  {
   "cell_type": "markdown",
   "id": "73811200",
   "metadata": {},
   "source": [
    "# Question2\n",
    "Create a function that takes a list of numbers and return the number that's unique.\n",
    "Examples\n",
    "unique([3, 3, 3, 7, 3, 3]) ➞ 7\n",
    "\n",
    "unique([0, 0, 0.77, 0, 0]) ➞ 0.77\n",
    "\n",
    "unique([0, 1, 1, 1, 1, 1, 1, 1]) ➞ 0\n"
   ]
  },
  {
   "cell_type": "code",
   "execution_count": 13,
   "id": "d23bf389",
   "metadata": {},
   "outputs": [],
   "source": [
    "def unique(a):\n",
    "    for i in a:\n",
    "        if a.count(i)==1:\n",
    "            return i"
   ]
  },
  {
   "cell_type": "code",
   "execution_count": 19,
   "id": "284eb5bc",
   "metadata": {},
   "outputs": [
    {
     "name": "stdout",
     "output_type": "stream",
     "text": [
      "unique element in the list [3, 3, 3, 7, 3, 3] is: 7\n",
      "unique element in the list [0, 0, 0.77, 0, 0] is: 0.77\n",
      "unique element in the list [0, 1, 1, 1, 1, 1, 1, 1] is: 0\n"
     ]
    }
   ],
   "source": [
    "l1=[3, 3, 3, 7, 3, 3]\n",
    "l2=[0, 0, 0.77, 0, 0]\n",
    "l3=[0, 1, 1, 1, 1, 1, 1, 1]\n",
    "print(\"unique element in the list\", l1,\"is:\",unique(l1))\n",
    "print(\"unique element in the list\",l2, \"is:\",unique(l2))\n",
    "print(\"unique element in the list\",l3, \"is:\",unique(l3))"
   ]
  },
  {
   "cell_type": "markdown",
   "id": "3a432c4d",
   "metadata": {},
   "source": [
    "# Question4\n",
    "Create a function that takes a list of strings and return a list, sorted from shortest to longest.\n",
    "Examples\n",
    "sort_by_length([\"Google\", \"Apple\", \"Microsoft\"])\n",
    "➞ [\"Apple\", \"Google\", \"Microsoft\"]\n",
    "\n",
    "sort_by_length([\"Leonardo\", \"Michelangelo\", \"Raphael\", \"Donatello\"])\n",
    "➞ [\"Raphael\", \"Leonardo\", \"Donatello\", \"Michelangelo\"]\n",
    "\n",
    "sort_by_length([\"Turing\", \"Einstein\", \"Jung\"])\n",
    "➞ [\"Jung\", \"Turing\", \"Einstein\"]\n"
   ]
  },
  {
   "cell_type": "code",
   "execution_count": 39,
   "id": "975f645a",
   "metadata": {},
   "outputs": [
    {
     "name": "stdout",
     "output_type": "stream",
     "text": [
      "for the list : ['Google', 'Apple', 'Microsoft'] : ['Apple', 'Google', 'Microsoft']\n",
      "for the list : ['Leonardo', 'Michelangelo', 'Raphael', 'Donatello'] : ['Raphael', 'Leonardo', 'Donatello', 'Michelangelo']\n",
      "for the list : ['Turing', 'Einstein', 'Jung'] : ['Jung', 'Turing', 'Einstein']\n"
     ]
    }
   ],
   "source": [
    "def sort_by_length(a):\n",
    "    l=[]\n",
    "    output=[]\n",
    "    for i in a:\n",
    "        l.append(len(i))\n",
    "    l=sorted(l)\n",
    "    for i in l:\n",
    "        for j in a:\n",
    "            if len(j)==i:\n",
    "                output.append(j)\n",
    "    return output\n",
    "l1=[\"Google\", \"Apple\", \"Microsoft\"]\n",
    "l2=[\"Leonardo\", \"Michelangelo\", \"Raphael\", \"Donatello\"]\n",
    "l3=[\"Turing\", \"Einstein\", \"Jung\"]\n",
    "print(\"for the list :\",l1,\":\",sort_by_length(l1))\n",
    "print(\"for the list :\",l2,\":\",sort_by_length(l2))\n",
    "print(\"for the list :\",l3,\":\",sort_by_length(l3))\n",
    "\n",
    "                \n",
    "        \n",
    "    "
   ]
  },
  {
   "cell_type": "markdown",
   "id": "b0b46354",
   "metadata": {},
   "source": [
    "# Question5\n",
    "Create a function that validates whether three given integers form a Pythagorean triplet. The sum of the squares of the two smallest integers must equal the square of the largest number to be validated.\n",
    "\n",
    "\n",
    "Examples\n",
    "is_triplet(3, 4, 5) ➞ True\n",
    "# 3² + 4² = 25\n",
    "# 5² = 25\n",
    "\n",
    "is_triplet(13, 5, 12) ➞ True\n",
    "# 5² + 12² = 169\n",
    "# 13² = 169\n",
    "\n",
    "is_triplet(1, 2, 3) ➞ False\n",
    "# 1² + 2² = 5\n",
    "# 3² = 9\n",
    "Notes\n",
    "Numbers may not be given in a sorted order"
   ]
  },
  {
   "cell_type": "code",
   "execution_count": 45,
   "id": "8fa3be60",
   "metadata": {},
   "outputs": [
    {
     "name": "stdout",
     "output_type": "stream",
     "text": [
      "enter a number:1\n",
      "enter a number:2\n",
      "enter a number:3\n"
     ]
    },
    {
     "data": {
      "text/plain": [
       "False"
      ]
     },
     "execution_count": 45,
     "metadata": {},
     "output_type": "execute_result"
    }
   ],
   "source": [
    "def is_triplet(a,b,c):\n",
    "    c=[a,b,c]\n",
    "    c=sorted(c)\n",
    "    d=int(c[0]**2 + c[1]**2)\n",
    "    e=c[2]**2\n",
    "    if d==e:\n",
    "        return True\n",
    "    else:\n",
    "        return False\n",
    "    \n",
    "a=int(input(\"enter a number:\"))\n",
    "b=int(input(\"enter a number:\"))\n",
    "c=int(input(\"enter a number:\"))\n",
    "is_triplet(a,b,c)"
   ]
  }
 ],
 "metadata": {
  "kernelspec": {
   "display_name": "Python 3 (ipykernel)",
   "language": "python",
   "name": "python3"
  },
  "language_info": {
   "codemirror_mode": {
    "name": "ipython",
    "version": 3
   },
   "file_extension": ".py",
   "mimetype": "text/x-python",
   "name": "python",
   "nbconvert_exporter": "python",
   "pygments_lexer": "ipython3",
   "version": "3.9.7"
  }
 },
 "nbformat": 4,
 "nbformat_minor": 5
}
