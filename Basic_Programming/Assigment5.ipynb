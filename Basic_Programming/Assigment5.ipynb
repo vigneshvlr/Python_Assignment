{
 "cells": [
  {
   "cell_type": "markdown",
   "id": "2acbab03",
   "metadata": {},
   "source": [
    "1. Write a Python Program to Find LCM?\n",
    "2. Write a Python Program to Find HCF?\n",
    "3. Write a Python Program to Convert Decimal to Binary, Octal and Hexadecimal?\n",
    "4. Write a Python Program To Find ASCII value of a character?\n",
    "5. Write a Python Program to Make a Simple Calculator with 4 basic mathematical operations?"
   ]
  },
  {
   "cell_type": "markdown",
   "id": "a0c8af6f",
   "metadata": {},
   "source": [
    "1.Write a Python Program to Find LCM?"
   ]
  },
  {
   "cell_type": "code",
   "execution_count": 5,
   "id": "e596a472",
   "metadata": {},
   "outputs": [
    {
     "name": "stdout",
     "output_type": "stream",
     "text": [
      "enter the first number2\n",
      "enter the second number3\n"
     ]
    },
    {
     "data": {
      "text/plain": [
       "6"
      ]
     },
     "execution_count": 5,
     "metadata": {},
     "output_type": "execute_result"
    }
   ],
   "source": [
    "def lcm(x,y):\n",
    "    \n",
    "    if x> y:\n",
    "        g1 = x\n",
    "    else:\n",
    "         g1 = y\n",
    "\n",
    "    while(True):\n",
    "        if((g1 % x == 0) and (g1 % y == 0)):\n",
    "            lcm = g1\n",
    "            break\n",
    "        g1 += 1\n",
    "\n",
    "    return lcm\n",
    "\n",
    "a=int(input(\"enter the first number\"))\n",
    "b=int(input(\"enter the second number\"))\n",
    "lcm(a,b)"
   ]
  },
  {
   "cell_type": "markdown",
   "id": "d8420fd3",
   "metadata": {},
   "source": [
    "2.Write a Python Program to Find HCF?"
   ]
  },
  {
   "cell_type": "code",
   "execution_count": 27,
   "id": "4f7f97c0",
   "metadata": {},
   "outputs": [
    {
     "name": "stdout",
     "output_type": "stream",
     "text": [
      "enter first numbers2\n",
      "enter second numbers 3\n"
     ]
    },
    {
     "data": {
      "text/plain": [
       "1"
      ]
     },
     "execution_count": 27,
     "metadata": {},
     "output_type": "execute_result"
    }
   ],
   "source": [
    "def hcf(a,b):\n",
    "    val=0\n",
    "    small=0\n",
    "    if (a<b):\n",
    "        small=a\n",
    "    else:\n",
    "        small=b\n",
    "    for i in range(1,9):\n",
    "        if (a%i==0 and b%i==0):\n",
    "            val=i\n",
    "    return val\n",
    "val1=int(input(\"enter first numbers\"))\n",
    "val2=int(input(\"enter second numbers \"))\n",
    "hcf(val1,val2)"
   ]
  },
  {
   "cell_type": "code",
   "execution_count": null,
   "id": "ac29fbb1",
   "metadata": {},
   "outputs": [],
   "source": [
    "3.Write a Python Program to Convert Decimal to Binary, Octal and Hexadecimal"
   ]
  },
  {
   "cell_type": "markdown",
   "id": "d0b83f67",
   "metadata": {},
   "source": [
    "3.Write a Python Program to Convert Decimal to Binary, Octal and Hexadecimal?"
   ]
  },
  {
   "cell_type": "code",
   "execution_count": 6,
   "id": "298909d0",
   "metadata": {},
   "outputs": [
    {
     "name": "stdout",
     "output_type": "stream",
     "text": [
      "enter a number222\n",
      "the binary of the number is 0b11011110\n",
      "the Octal of the number is 0o336\n",
      "the hexa of the number is 0xde\n"
     ]
    }
   ],
   "source": [
    "a=int(input(\"enter a number\"))\n",
    "print(\"the binary of the number is\", bin(a))\n",
    "print(\"the Octal of the number is\", oct(a))\n",
    "print(\"the hexa of the number is\", hex(a))\n"
   ]
  },
  {
   "cell_type": "markdown",
   "id": "579a68e2",
   "metadata": {},
   "source": [
    "4. Write a Python Program To Find ASCII value of a character?"
   ]
  },
  {
   "cell_type": "code",
   "execution_count": 10,
   "id": "d617ce93",
   "metadata": {},
   "outputs": [
    {
     "name": "stdout",
     "output_type": "stream",
     "text": [
      "enter a charT\n",
      "the ASCII of a given character is\n"
     ]
    },
    {
     "data": {
      "text/plain": [
       "84"
      ]
     },
     "execution_count": 10,
     "metadata": {},
     "output_type": "execute_result"
    }
   ],
   "source": [
    "a=input(\"enter a char\")\n",
    "print(\"the ASCII of a given character is\")\n",
    "ord(a)"
   ]
  },
  {
   "cell_type": "markdown",
   "id": "898f73d5",
   "metadata": {},
   "source": [
    "5. Write a Python Program to Make a Simple Calculator with 4 basic mathematical operations?"
   ]
  },
  {
   "cell_type": "code",
   "execution_count": 12,
   "id": "76c6cb74",
   "metadata": {},
   "outputs": [
    {
     "name": "stdout",
     "output_type": "stream",
     "text": [
      "Enter  a number to do 4 basic mathematical operations4\n",
      "Enter  a number to do 4 basic mathematical operations4\n",
      "Addtion of two number is\n",
      "8\n",
      "Substraction of two number is\n",
      "0\n",
      "Division of two number is\n",
      "1.0\n"
     ]
    }
   ],
   "source": [
    "def add(a,b):\n",
    "    return a+b\n",
    "def sub(a,b):\n",
    "    return a-b\n",
    "def div(a,b):\n",
    "    return a/b\n",
    "def multi(a,b):\n",
    "    return a/b\n",
    "a=int(input(\"Enter  a number to do 4 basic mathematical operations\"))\n",
    "b=int(input(\"Enter  a number to do 4 basic mathematical operations\"))\n",
    "print(\"Addtion of two number is\")\n",
    "print(add(a,b))\n",
    "print(\"Substraction of two number is\")\n",
    "print(sub(a,b))\n",
    "print(\"Division of two number is\")\n",
    "print(div(a,b))\n",
    " \n",
    "    \n",
    "        \n",
    "    "
   ]
  },
  {
   "cell_type": "code",
   "execution_count": null,
   "id": "9d3584cb",
   "metadata": {},
   "outputs": [],
   "source": []
  }
 ],
 "metadata": {
  "kernelspec": {
   "display_name": "Python 3 (ipykernel)",
   "language": "python",
   "name": "python3"
  },
  "language_info": {
   "codemirror_mode": {
    "name": "ipython",
    "version": 3
   },
   "file_extension": ".py",
   "mimetype": "text/x-python",
   "name": "python",
   "nbconvert_exporter": "python",
   "pygments_lexer": "ipython3",
   "version": "3.9.7"
  }
 },
 "nbformat": 4,
 "nbformat_minor": 5
}
