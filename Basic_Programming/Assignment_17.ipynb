{
 "cells": [
  {
   "cell_type": "markdown",
   "id": "cf65992f",
   "metadata": {},
   "source": [
    "# Question1\n",
    "Create a function that takes three arguments a, b, c and returns the sum of the numbers that are evenly divided by c from the range a, b inclusive.\n",
    "Examples\n",
    "evenly_divisible(1, 10, 20) ➞ 0\n",
    "\n",
    "\n",
    "evenly_divisible(1, 10, 2) ➞ 30\n",
    "\n",
    "\n",
    "evenly_divisible(1, 10, 3) ➞ 18\n",
    "\n"
   ]
  },
  {
   "cell_type": "code",
   "execution_count": 7,
   "id": "4e4b876f",
   "metadata": {},
   "outputs": [],
   "source": [
    "def evenly_divisible(a,b,c):\n",
    "    sum=0\n",
    "    for i in range(a,b+1):\n",
    "        if i%c==0:\n",
    "            sum=sum+i\n",
    "    return sum"
   ]
  },
  {
   "cell_type": "code",
   "execution_count": 8,
   "id": "c11744a1",
   "metadata": {},
   "outputs": [
    {
     "name": "stdout",
     "output_type": "stream",
     "text": [
      "enter the value of a 1\n",
      "enter the value of b 10\n",
      "enter the value of c 3\n"
     ]
    },
    {
     "data": {
      "text/plain": [
       "18"
      ]
     },
     "execution_count": 8,
     "metadata": {},
     "output_type": "execute_result"
    }
   ],
   "source": [
    "a=int(input('enter the value of a '))\n",
    "b=int(input('enter the value of b '))\n",
    "c=int(input('enter the value of c '))\n",
    "evenly_divisible(a,b,c)"
   ]
  },
  {
   "cell_type": "markdown",
   "id": "48761929",
   "metadata": {},
   "source": [
    "# Question2. \n",
    "Create a function that returns True if a given inequality expression is correct and False otherwise.\n",
    "Examples\n",
    "correct_signs(\"3 < 7 < 11\") ➞ True\n",
    "\n",
    "correct_signs(\"13 > 44 > 33 > 1\") ➞ False\n",
    "\n",
    "correct_signs(\"1 < 2 < 6 < 9 > 3\") ➞ True"
   ]
  },
  {
   "cell_type": "code",
   "execution_count": 39,
   "id": "22c5ea69",
   "metadata": {},
   "outputs": [],
   "source": [
    "def  correct_signs(a):\n",
    "    c=[]\n",
    "    if '>' in a:\n",
    "        print('hello')\n",
    "        c=[int(x) for x in a.split(\">\") ]\n",
    "        for i in range(0,(len(c)-2)):\n",
    "            if c[i] < c[i+1]:\n",
    "                return False\n",
    "        return True\n",
    "    \n",
    "    if '<' in a:\n",
    "        c=[int(x) for x in a.split(\"<\") ]\n",
    "        for i in range(0,(len(c)-2)):\n",
    "            if c[i] > c[i+1]:\n",
    "                return False\n",
    "        return True\n",
    "    \n",
    "        "
   ]
  },
  {
   "cell_type": "code",
   "execution_count": 41,
   "id": "a5253ba6",
   "metadata": {},
   "outputs": [
    {
     "name": "stdout",
     "output_type": "stream",
     "text": [
      "enter a expression check inequality of the expression 3 < 7 < 11\n"
     ]
    },
    {
     "data": {
      "text/plain": [
       "True"
      ]
     },
     "execution_count": 41,
     "metadata": {},
     "output_type": "execute_result"
    }
   ],
   "source": [
    "a=input(\"enter a expression check inequality of the expression \")\n",
    "correct_signs(a)"
   ]
  },
  {
   "cell_type": "markdown",
   "id": "ca07566e",
   "metadata": {},
   "source": [
    "# Question3.\n",
    "Create a function that replaces all the vowels in a string with a specified character.\n",
    "Examples\n",
    "replace_vowels(\"the aardvark\", \"#\") ➞ \"th# ##rdv#rk\"\n",
    "\n",
    "replace_vowels(\"minnie mouse\", \"?\") ➞ \"m?nn?? m??s?\"\n",
    "\n",
    "replace_vowels(\"shakespeare\", \"*\") ➞ \"sh*k*sp**r*\""
   ]
  },
  {
   "cell_type": "code",
   "execution_count": 84,
   "id": "0ee9f35a",
   "metadata": {},
   "outputs": [],
   "source": [
    "def replace_vowels(a,b):\n",
    "    c=['a','e','i','o','u']\n",
    "    for i in range(0,(len(a))):\n",
    "            if a[i] in c:\n",
    "                a=a[0:i]+b+a[(i+1):(len(a)+1)]\n",
    "                \n",
    "                \n",
    "                \n",
    "    return a"
   ]
  },
  {
   "cell_type": "code",
   "execution_count": 85,
   "id": "a1aa50a3",
   "metadata": {},
   "outputs": [
    {
     "name": "stdout",
     "output_type": "stream",
     "text": [
      "enter a string tominnie mouse\n",
      "enter a specified character to replace vowels entered in the above string?\n"
     ]
    },
    {
     "data": {
      "text/plain": [
       "'m?nn?? m??s?'"
      ]
     },
     "execution_count": 85,
     "metadata": {},
     "output_type": "execute_result"
    }
   ],
   "source": [
    "a=input(\"enter a string to\")\n",
    "b=input(\"enter a specified character to replace vowels entered in the above string\")\n",
    "replace_vowels(a,b)"
   ]
  },
  {
   "cell_type": "markdown",
   "id": "1f18ac3f",
   "metadata": {},
   "source": [
    "# Question4.\n",
    "Write a function that calculates the factorial of a number recursively.\n",
    "Examples\n",
    "factorial(5) ➞ 120\n",
    "\n",
    "factorial(3) ➞ 6\n",
    "\n",
    "factorial(1) ➞ 1\n",
    "\n",
    "factorial(0) ➞ 1\n"
   ]
  },
  {
   "cell_type": "code",
   "execution_count": 5,
   "id": "dc79c6a8",
   "metadata": {},
   "outputs": [],
   "source": [
    "def fact(a):\n",
    "    if a==1:\n",
    "        return a\n",
    "    else:\n",
    "        \n",
    "        return (a*fact(a-1))"
   ]
  },
  {
   "cell_type": "code",
   "execution_count": 7,
   "id": "5dbb4922",
   "metadata": {},
   "outputs": [
    {
     "name": "stdout",
     "output_type": "stream",
     "text": [
      "enter a number to find its factorial12\n"
     ]
    },
    {
     "data": {
      "text/plain": [
       "479001600"
      ]
     },
     "execution_count": 7,
     "metadata": {},
     "output_type": "execute_result"
    }
   ],
   "source": [
    "a=int(input(\"enter a number to find its factorial\"))\n",
    "fact(a)"
   ]
  },
  {
   "cell_type": "markdown",
   "id": "38317862",
   "metadata": {},
   "source": [
    "# Question 5\n",
    "Hamming distance is the number of characters that differ between two strings.\n",
    "To illustrate:\n",
    "String1: \"abcbba\"\n",
    "String2: \"abcbda\"\n",
    "\n",
    "Hamming Distance: 1 - \"b\" vs. \"d\" is the only difference.\n",
    "Create a function that computes the hamming distance between two strings.\n",
    "Examples\n",
    "hamming_distance(\"abcde\", \"bcdef\") ➞ 5\n",
    "\n",
    "hamming_distance(\"abcde\", \"abcde\") ➞ 0\n",
    "\n",
    "hamming_distance(\"strong\", \"strung\") ➞ 1\n",
    "\n"
   ]
  },
  {
   "cell_type": "code",
   "execution_count": 18,
   "id": "a6ae121b",
   "metadata": {},
   "outputs": [
    {
     "name": "stdout",
     "output_type": "stream",
     "text": [
      "enter a single wordabcde\n",
      "enter another word  to calclulate hamming distanceabcde\n"
     ]
    },
    {
     "data": {
      "text/plain": [
       "0"
      ]
     },
     "execution_count": 18,
     "metadata": {},
     "output_type": "execute_result"
    }
   ],
   "source": [
    "def hamming(a,b):\n",
    "    count=0\n",
    "    for i in range((len(a))):\n",
    "        \n",
    "        if a[i]!=b[i]:\n",
    "            \n",
    "            count=count+1\n",
    "    return count\n",
    "            \n",
    "a=input(\"enter a single word\")\n",
    "b=input(\"enter another word  to calclulate hamming distance\")\n",
    "hamming(a,b)"
   ]
  },
  {
   "cell_type": "code",
   "execution_count": null,
   "id": "1d826e5a",
   "metadata": {},
   "outputs": [],
   "source": []
  }
 ],
 "metadata": {
  "kernelspec": {
   "display_name": "Python 3 (ipykernel)",
   "language": "python",
   "name": "python3"
  },
  "language_info": {
   "codemirror_mode": {
    "name": "ipython",
    "version": 3
   },
   "file_extension": ".py",
   "mimetype": "text/x-python",
   "name": "python",
   "nbconvert_exporter": "python",
   "pygments_lexer": "ipython3",
   "version": "3.9.7"
  }
 },
 "nbformat": 4,
 "nbformat_minor": 5
}
