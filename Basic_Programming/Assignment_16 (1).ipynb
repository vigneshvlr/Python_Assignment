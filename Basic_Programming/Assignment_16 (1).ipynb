{
 "cells": [
  {
   "cell_type": "markdown",
   "id": "4b75b204",
   "metadata": {},
   "source": [
    "# Question1.\n",
    "Write a function that stutters a word as if someone is struggling to read it. The first two letters are repeated twice with an ellipsis ... and space after each, and then the word is pronounced with a question mark ?.\n",
    "Examples\n",
    "stutter(\"incredible\") ➞ \"in... in... incredible?\"\n",
    "\n",
    "stutter(\"enthusiastic\") ➞ \"en... en... enthusiastic?\"\n",
    "\n",
    "stutter(\"outstanding\") ➞ \"ou... ou... outstanding?\"\n",
    "\n",
    "Hint :- Assume all input is in lower case and at least two characters long.\n"
   ]
  },
  {
   "cell_type": "code",
   "execution_count": 8,
   "id": "c5252c90",
   "metadata": {},
   "outputs": [
    {
     "name": "stdout",
     "output_type": "stream",
     "text": [
      "Enter a stringincredible\n"
     ]
    },
    {
     "data": {
      "text/plain": [
       "'in...in...incredible'"
      ]
     },
     "execution_count": 8,
     "metadata": {},
     "output_type": "execute_result"
    }
   ],
   "source": [
    "def func(a):\n",
    "    return a[0:2]+'...'+a[0:2]+'...'+a\n",
    "a=input('Enter a string')\n",
    "func(a)\n"
   ]
  },
  {
   "cell_type": "markdown",
   "id": "60626cbd",
   "metadata": {},
   "source": [
    "# Question 2.\n",
    "Create a function that takes an angle in radians and returns the corresponding angle in degrees rounded to one decimal place.\n",
    "Examples\n",
    "radians_to_degrees(1) ➞ 57.3\n",
    "\n",
    "radians_to_degrees(20) ➞ 1145.9\n",
    "\n",
    "radians_to_degrees(50) ➞ 2864.8"
   ]
  },
  {
   "cell_type": "code",
   "execution_count": 16,
   "id": "e7cc5fc2",
   "metadata": {},
   "outputs": [
    {
     "name": "stdout",
     "output_type": "stream",
     "text": [
      "Enter a number in radians 20\n"
     ]
    },
    {
     "data": {
      "text/plain": [
       "1146.5"
      ]
     },
     "execution_count": 16,
     "metadata": {},
     "output_type": "execute_result"
    }
   ],
   "source": [
    "def rad_degree(a):\n",
    "    return  a*(180/3.14)\n",
    "a=int(input(\"Enter a number in radians \"))\n",
    "c=rad_degree(a)\n",
    "round(c,1)\n",
    "    "
   ]
  },
  {
   "cell_type": "markdown",
   "id": "caab1de9",
   "metadata": {},
   "source": [
    "# Question 3. \n",
    "In this challenge, establish if a given integer num is a Curzon number. If 1 plus 2 elevated to num is exactly divisible by 1 plus 2 multiplied by num, then num is a Curzon number.\n",
    "Given a non-negative integer num, implement a function that returns True if num is a Curzon number, or False otherwise.\n"
   ]
  },
  {
   "cell_type": "code",
   "execution_count": 28,
   "id": "b8876db9",
   "metadata": {},
   "outputs": [
    {
     "name": "stdout",
     "output_type": "stream",
     "text": [
      "enter an number10\n"
     ]
    },
    {
     "data": {
      "text/plain": [
       "False"
      ]
     },
     "execution_count": 28,
     "metadata": {},
     "output_type": "execute_result"
    }
   ],
   "source": [
    "def func(a):\n",
    "    c=2**a +1\n",
    "    d=2 * a +1\n",
    "    \n",
    "    if c%d==0:\n",
    "        return True\n",
    "    else:\n",
    "        return False\n",
    "a=int(input(\"enter an number\"))\n",
    "func(a)"
   ]
  },
  {
   "cell_type": "markdown",
   "id": "ffc1b563",
   "metadata": {},
   "source": [
    "# Question 4\n",
    "Given the side length x find the area of a hexagon."
   ]
  },
  {
   "cell_type": "code",
   "execution_count": 41,
   "id": "fac697fa",
   "metadata": {},
   "outputs": [
    {
     "name": "stdout",
     "output_type": "stream",
     "text": [
      "enter the length to find the area of hexagon1\n"
     ]
    },
    {
     "data": {
      "text/plain": [
       "2.6"
      ]
     },
     "execution_count": 41,
     "metadata": {},
     "output_type": "execute_result"
    }
   ],
   "source": [
    "import math\n",
    "def hexa(a):\n",
    "    d=3\n",
    "    c=math.sqrt(3)\n",
    "    out=(3*c*(a**2))/2\n",
    "    return out\n",
    "    \n",
    "a=int(input(\"enter the length to find the area of hexagon\"))\n",
    "round(hexa(a),1)"
   ]
  },
  {
   "cell_type": "markdown",
   "id": "5c3ca16f",
   "metadata": {},
   "source": [
    "# Question 5\n",
    "Create a function that returns a base-2 (binary) representation of a base-10 (decimal) string number.\n",
    "To convert is simple: ((2) means base-2 and (10) means base-10) 010101001(2) = 1 + 8 + 32 + 128.\n",
    "Going from right to left, the value of the most right bit is 1, now from that every bit to the left will be x2 the value, value of an 8 bit binary numbers are (256, 128, 64, 32, 16, 8, 4, 2, 1).\n"
   ]
  },
  {
   "cell_type": "code",
   "execution_count": 115,
   "id": "570295b0",
   "metadata": {},
   "outputs": [
    {
     "name": "stdout",
     "output_type": "stream",
     "text": [
      "Enter a number to conver it into binary form5\n",
      "binary of the given number 5 is 101\n"
     ]
    }
   ],
   "source": [
    "def func(c) :\n",
    "    d=bin(c)\n",
    "    print('binary of the given number',c,'is',d[2:])\n",
    "c=int((input('Enter a number to conver it into binary form')))\n",
    "func(c)\n",
    "\n",
    "\n",
    "   "
   ]
  }
 ],
 "metadata": {
  "kernelspec": {
   "display_name": "Python 3 (ipykernel)",
   "language": "python",
   "name": "python3"
  },
  "language_info": {
   "codemirror_mode": {
    "name": "ipython",
    "version": 3
   },
   "file_extension": ".py",
   "mimetype": "text/x-python",
   "name": "python",
   "nbconvert_exporter": "python",
   "pygments_lexer": "ipython3",
   "version": "3.9.7"
  }
 },
 "nbformat": 4,
 "nbformat_minor": 5
}
