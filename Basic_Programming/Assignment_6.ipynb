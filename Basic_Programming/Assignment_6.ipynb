{
 "cells": [
  {
   "cell_type": "markdown",
   "id": "82ade3c7",
   "metadata": {},
   "source": [
    "1.\tWrite a Python Program to Display Fibonacci Sequence Using Recursion?\n",
    "2.\tWrite a Python Program to Find Factorial of Number Using Recursion?\n",
    "3.\tWrite a Python Program to calculate your Body Mass Index?\n",
    "4.\tWrite a Python Program to calculate the natural logarithm of any number?\n",
    "5.\tWrite a Python Program for cube sum of first n natural numbers?\n"
   ]
  },
  {
   "cell_type": "markdown",
   "id": "38f454b9",
   "metadata": {},
   "source": [
    "1.\tWrite a Python Program to Display Fibonacci Sequence Using Recursion?"
   ]
  },
  {
   "cell_type": "code",
   "execution_count": 16,
   "id": "77e5cdee",
   "metadata": {
    "scrolled": true
   },
   "outputs": [
    {
     "name": "stdout",
     "output_type": "stream",
     "text": [
      "enter a number of terms 10\n",
      "Fibonacci sequence:\n",
      "0\n",
      "1\n",
      "1\n",
      "2\n",
      "3\n",
      "5\n",
      "8\n",
      "13\n",
      "21\n",
      "34\n"
     ]
    }
   ],
   "source": [
    "def recur_fibo(n):\n",
    "    if n <= 1:\n",
    "        return n\n",
    "    else:\n",
    "        return(recur_fibo(n-1) + recur_fibo(n-2))\n",
    "\n",
    "c=int(input(\"enter a number of terms \"))\n",
    "if c <= 0:\n",
    "    print(\"you have enter a negative integer\")\n",
    "else:\n",
    "    print(\"Fibonacci sequence:\")\n",
    "    for i in range(c):\n",
    "        print(recur_fibo(i))"
   ]
  },
  {
   "cell_type": "markdown",
   "id": "a190f541",
   "metadata": {},
   "source": [
    "2.\tWrite a Python Program to Find Factorial of Number Using Recursion?"
   ]
  },
  {
   "cell_type": "code",
   "execution_count": 20,
   "id": "e40aa948",
   "metadata": {},
   "outputs": [
    {
     "name": "stdout",
     "output_type": "stream",
     "text": [
      "enter a number to find its factorial1\n",
      "1\n"
     ]
    }
   ],
   "source": [
    "def fact(n):\n",
    "    if n==1:\n",
    "        return  n\n",
    "    else:\n",
    "        return(n*fact(n-1))\n",
    "c=int(input(\"enter a number to find its factorial\"))\n",
    "print(fact(c))\n",
    "    \n",
    "      "
   ]
  },
  {
   "cell_type": "markdown",
   "id": "ef507626",
   "metadata": {},
   "source": [
    "3.\tWrite a Python Program to calculate your Body Mass Index?"
   ]
  },
  {
   "cell_type": "code",
   "execution_count": 27,
   "id": "204b3fec",
   "metadata": {},
   "outputs": [
    {
     "name": "stdout",
     "output_type": "stream",
     "text": [
      "enter your height input Meters(decimals): 1.2\n",
      " enter your weight input kg: 90\n",
      "Your BMI is 62.5 which means you are obese.\n"
     ]
    }
   ],
   "source": [
    "height = float(input('enter your height input Meters(decimals): '))\n",
    "weight = int(input(' enter your weight input kg: '))\n",
    "bmi=weight/(height**2)\n",
    "if bmi <= 18.5:\n",
    "    print('Your BMI is', bmi,'which means you are underweight.')\n",
    "elif bmi > 18.5 and bmi < 25:\n",
    "    print('Your BMI is', bmi,'which means you are normal.')\n",
    "\n",
    "elif bmi > 25 and bmi < 30:\n",
    "    print('your BMI is', bmi,'overweight.')\n",
    "\n",
    "elif bmi > 30:\n",
    "    print('Your BMI is', bmi,'which means you are obese.')\n"
   ]
  },
  {
   "cell_type": "markdown",
   "id": "63a6f6d8",
   "metadata": {},
   "source": [
    "4.\tWrite a Python Program to calculate the natural logarithm of any number?"
   ]
  },
  {
   "cell_type": "code",
   "execution_count": 2,
   "id": "36ca8879",
   "metadata": {},
   "outputs": [
    {
     "name": "stdout",
     "output_type": "stream",
     "text": [
      "enter a number to calucluate natural logrithm90\n",
      "The Natural Log of the given number is\n",
      "4.499809670330265\n"
     ]
    }
   ],
   "source": [
    "import math\n",
    "c=int(input(\"enter a number to calucluate natural logrithm\"))\n",
    "print(\"The Natural Log of the given number is\")\n",
    "print(math.log(c))"
   ]
  },
  {
   "cell_type": "markdown",
   "id": "86b90d79",
   "metadata": {},
   "source": [
    "5.\tWrite a Python Program for cube sum of first n natural numbers?"
   ]
  },
  {
   "cell_type": "code",
   "execution_count": 7,
   "id": "233c14f4",
   "metadata": {},
   "outputs": [
    {
     "name": "stdout",
     "output_type": "stream",
     "text": [
      "enter a natural numbers3\n",
      "216\n"
     ]
    }
   ],
   "source": [
    "c=int(input(\"enter a natural numbers\"))\n",
    "sum=0\n",
    "for i in range(1,c+1):\n",
    "    sum+=i\n",
    "print(sum**3)"
   ]
  },
  {
   "cell_type": "code",
   "execution_count": null,
   "id": "e5b82879",
   "metadata": {},
   "outputs": [],
   "source": []
  }
 ],
 "metadata": {
  "kernelspec": {
   "display_name": "Python 3 (ipykernel)",
   "language": "python",
   "name": "python3"
  },
  "language_info": {
   "codemirror_mode": {
    "name": "ipython",
    "version": 3
   },
   "file_extension": ".py",
   "mimetype": "text/x-python",
   "name": "python",
   "nbconvert_exporter": "python",
   "pygments_lexer": "ipython3",
   "version": "3.9.7"
  }
 },
 "nbformat": 4,
 "nbformat_minor": 5
}
