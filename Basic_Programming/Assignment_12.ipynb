{
 "cells": [
  {
   "cell_type": "markdown",
   "id": "a26346d0",
   "metadata": {},
   "source": [
    "1.\tWrite a Python program to Extract Unique values dictionary values?\n",
    "2.\tWrite a Python program to find the sum of all items in a dictionary?\n",
    "3.\tWrite a Python program to Merging two Dictionaries?\n",
    "4.\tWrite a Python program to convert key-values list to flat dictionary?\n",
    "5.\tWrite a Python program to insertion at the beginning in OrderedDict?\n",
    "6.\tWrite a Python program to check order of character in string using OrderedDict()?\n",
    "7.\tWrite a Python program to sort Python Dictionaries by Key or Value?\n"
   ]
  },
  {
   "cell_type": "markdown",
   "id": "da927ad0",
   "metadata": {},
   "source": [
    "1.Write a Python program to Extract Unique values from dictionary values"
   ]
  },
  {
   "cell_type": "code",
   "execution_count": 15,
   "id": "76f59e0b",
   "metadata": {},
   "outputs": [
    {
     "name": "stdout",
     "output_type": "stream",
     "text": [
      "enter a dic{'a':3,'b':2,'c':2,'d':3,'e':4}\n",
      "4\n"
     ]
    }
   ],
   "source": [
    "c=eval(input(\"enter a dic\"))\n",
    "d=list((c.values()))\n",
    "print('the unqiue values given in the dictionary is')\n",
    "for i in d:\n",
    "    if d.count(i)==1:\n",
    "        print(i)\n",
    "        "
   ]
  },
  {
   "cell_type": "markdown",
   "id": "bfd1fe62",
   "metadata": {},
   "source": [
    "2.Write a Python program to find the sum of all items in a dictionary?"
   ]
  },
  {
   "cell_type": "code",
   "execution_count": 18,
   "id": "52e680cb",
   "metadata": {},
   "outputs": [
    {
     "name": "stdout",
     "output_type": "stream",
     "text": [
      "enter a dic{'a':3,'b':2,'c':2,'d':3,'e':4}\n",
      "14\n"
     ]
    }
   ],
   "source": [
    "c=eval(input(\"enter a dic\"))\n",
    "sum=0\n",
    "for i in c:\n",
    "    sum=sum+ c[i]\n",
    "print(sum)"
   ]
  },
  {
   "cell_type": "markdown",
   "id": "ee1e8d65",
   "metadata": {},
   "source": [
    "3.Write a Python program to Merging two Dictionaries?"
   ]
  },
  {
   "cell_type": "code",
   "execution_count": 23,
   "id": "9b2d1fad",
   "metadata": {},
   "outputs": [
    {
     "name": "stdout",
     "output_type": "stream",
     "text": [
      "enter a dic1{'a':3,'b':2,'c':2,'d':3,'e':4}\n",
      "enter a dic2{'f':4,'2':1}\n",
      "{'a': 3, 'b': 2, 'c': 2, 'd': 3, 'e': 4, 'f': 4, '2': 1}\n"
     ]
    }
   ],
   "source": [
    "c=eval(input(\"enter a dic1\"))\n",
    "d=eval(input(\"enter a dic2\"))\n",
    "c.update(d)\n",
    "print(c)"
   ]
  },
  {
   "cell_type": "markdown",
   "id": "271d8e0a",
   "metadata": {},
   "source": [
    "4.Write a Python program to convert key-values list to flat dictionary?"
   ]
  },
  {
   "cell_type": "code",
   "execution_count": 33,
   "id": "98890121",
   "metadata": {},
   "outputs": [
    {
     "name": "stdout",
     "output_type": "stream",
     "text": [
      "{5: 'May', 1: 'jan', 2: 'feb', 3: 'march', 4: 'April', 6: 'June'}\n"
     ]
    }
   ],
   "source": [
    "c=[1,2,3,4,5,6]\n",
    "d=['jan','feb','march','April','May','June']\n",
    "count=0\n",
    "for i in c:\n",
    "    dic1[i]=d[count]\n",
    "    count=count+1\n",
    "print(dic1)\n",
    "   "
   ]
  },
  {
   "cell_type": "markdown",
   "id": "021a8ae7",
   "metadata": {},
   "source": [
    "5.Write a Python program to insertion at the beginning in OrderedDict?"
   ]
  },
  {
   "cell_type": "code",
   "execution_count": 46,
   "id": "15b6090d",
   "metadata": {},
   "outputs": [
    {
     "name": "stdout",
     "output_type": "stream",
     "text": [
      "OrderedDict([('Welcome', '3'), ('hello', '1'), ('world', '2')])\n"
     ]
    }
   ],
   "source": [
    "from collections import OrderedDict\n",
    "d=OrderedDict([('hello', '1'), ('world', '2')])\n",
    "d.update({'Welcome':'3'})\n",
    "d.move_to_end('Welcome',last=False)\n",
    "print(d)"
   ]
  },
  {
   "cell_type": "markdown",
   "id": "a756410d",
   "metadata": {},
   "source": [
    "6.Write a Python program to sort Python Dictionaries by Key or Value?"
   ]
  },
  {
   "cell_type": "code",
   "execution_count": 40,
   "id": "e9e67833",
   "metadata": {},
   "outputs": [
    {
     "name": "stdout",
     "output_type": "stream",
     "text": [
      "{'a':7,'b':2,'e':5}\n",
      "after sorting by keys\n",
      "('a', 7)\n",
      "('b', 2)\n",
      "('e', 5)\n",
      "after sorting by values\n",
      "[('b', 2), ('e', 5), ('a', 7)]\n"
     ]
    }
   ],
   "source": [
    "d=eval(input(\"enter the a dictionary\"))\n",
    "c=sorted(d.keys())\n",
    "f=sorted(d.values())\n",
    "print(\"after sorting by keys\")\n",
    "for i in c:\n",
    "    print((i,d[i]))\n",
    "print('after sorting by values')\n",
    "print(sorted(d.items(), key =\n",
    "             lambda kv:(kv[1], kv[0]))) \n",
    "    "
   ]
  },
  {
   "cell_type": "code",
   "execution_count": null,
   "id": "e6e64c01",
   "metadata": {},
   "outputs": [],
   "source": []
  }
 ],
 "metadata": {
  "kernelspec": {
   "display_name": "Python 3 (ipykernel)",
   "language": "python",
   "name": "python3"
  },
  "language_info": {
   "codemirror_mode": {
    "name": "ipython",
    "version": 3
   },
   "file_extension": ".py",
   "mimetype": "text/x-python",
   "name": "python",
   "nbconvert_exporter": "python",
   "pygments_lexer": "ipython3",
   "version": "3.9.7"
  }
 },
 "nbformat": 4,
 "nbformat_minor": 5
}
