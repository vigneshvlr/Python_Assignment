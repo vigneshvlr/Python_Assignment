{
 "cells": [
  {
   "cell_type": "markdown",
   "id": "3b013f4c",
   "metadata": {},
   "source": [
    "1.\tWrite a Python program to find words which are greater than given length k?\n",
    "2.\tWrite a Python program for removing i-th character from a string?\n",
    "3.\tWrite a Python program to split and join a string?\n",
    "4.\tWrite a Python to check if a given string is binary string or not?\n",
    "5.\tWrite a Python program to find uncommon words from two Strings?\n",
    "6.\tWrite a Python to find all duplicate characters in string?\n",
    "7.\tWrite a Python Program to check if a string contains any special character?\n"
   ]
  },
  {
   "cell_type": "markdown",
   "id": "32d2a570",
   "metadata": {},
   "source": [
    "1.Write a Python program to find words which are greater than given length k?"
   ]
  },
  {
   "cell_type": "code",
   "execution_count": 10,
   "id": "fe59b19f",
   "metadata": {},
   "outputs": [
    {
     "name": "stdout",
     "output_type": "stream",
     "text": [
      "Enter a stringhelllloooo world machhaann per madurai\n",
      "enter lenght to find the word greater then given length4\n",
      "helllloooo\n",
      "world\n",
      "machhaann\n",
      "madurai\n"
     ]
    }
   ],
   "source": [
    "str1=input(\"Enter a string\")\n",
    "val1=int(input(\"enter lenght to find the word greater then given length\"))\n",
    "c=str1.split()\n",
    "for i in c:\n",
    "    if(len(i)>val1):\n",
    "        print(i)\n"
   ]
  },
  {
   "cell_type": "markdown",
   "id": "a4fa3f1c",
   "metadata": {},
   "source": [
    "2.Write a Python program for removing i-th character from a string?"
   ]
  },
  {
   "cell_type": "code",
   "execution_count": 24,
   "id": "5db65c3e",
   "metadata": {},
   "outputs": [
    {
     "name": "stdout",
     "output_type": "stream",
     "text": [
      "enter a stringhello mama how are you\n",
      "enter a number to remove that word3\n",
      "helo mama how are you\n"
     ]
    }
   ],
   "source": [
    "l=input(\"enter a string\")\n",
    "val1=int(input(\"enter a number to remove that word\"))\n",
    "c=l[0:val1-1]+l[val1:]\n",
    "print(\"After removing the char\")\n",
    "print(c)\n",
    "\n"
   ]
  },
  {
   "cell_type": "markdown",
   "id": "5e142985",
   "metadata": {},
   "source": [
    "3.Write a Python program to split and join a string"
   ]
  },
  {
   "cell_type": "code",
   "execution_count": 27,
   "id": "25760b3d",
   "metadata": {},
   "outputs": [
    {
     "name": "stdout",
     "output_type": "stream",
     "text": [
      "Enter a stringhello mama how are you\n",
      "after spiliting\n",
      "['hello', 'mama', 'how', 'are', 'you']\n",
      "after joining\n",
      "hello mama how are you\n"
     ]
    }
   ],
   "source": [
    "l=input('Enter a string')\n",
    "d=l.split()\n",
    "print('after spiliting')\n",
    "print(d)\n",
    "e=' '.join(d)\n",
    "print('after joining')\n",
    "print(e)"
   ]
  },
  {
   "cell_type": "markdown",
   "id": "1f24b5ce",
   "metadata": {},
   "source": [
    "4.Write a Python to check if a given string is binary string or not"
   ]
  },
  {
   "cell_type": "code",
   "execution_count": 30,
   "id": "52c9082c",
   "metadata": {},
   "outputs": [
    {
     "name": "stdout",
     "output_type": "stream",
     "text": [
      "Enter a string12010 gesds\n",
      "it is  not a binary string\n"
     ]
    }
   ],
   "source": [
    "a=input(\"Enter a string\")\n",
    "l=['0','1']\n",
    "flag=0\n",
    "for i in a:\n",
    "    if i not in l:\n",
    "        flag=1\n",
    "        print('it is  not a binary string')\n",
    "        break\n",
    "if flag==0:\n",
    "    print(\"It is a binary String\")"
   ]
  },
  {
   "cell_type": "markdown",
   "id": "b6e1efb0",
   "metadata": {},
   "source": [
    "5.Write a Python program to find uncommon words from two Strings?"
   ]
  },
  {
   "cell_type": "code",
   "execution_count": 45,
   "id": "1ce66aa1",
   "metadata": {},
   "outputs": [
    {
     "name": "stdout",
     "output_type": "stream",
     "text": [
      "enter a string1hello macha how are you da\n",
      "enter a string 2macha nalla iruken \n",
      "the uncommon words are\n",
      "hello\n",
      "how\n",
      "are\n",
      "you\n",
      "da\n",
      "nalla\n",
      "iruken\n"
     ]
    }
   ],
   "source": [
    "a=input('enter a string1')\n",
    "b=input('enter a string 2')\n",
    "c=a.split()\n",
    "d=b.split()\n",
    "print('the uncommon words are')\n",
    "for i in c:\n",
    "    if i not in d:\n",
    "        print(i)\n",
    "for j in d:\n",
    "    if j not in c:\n",
    "        print(j)\n",
    "  "
   ]
  },
  {
   "cell_type": "markdown",
   "id": "dfa258c1",
   "metadata": {},
   "source": [
    "6.Write a Python to find all duplicate characters in string?"
   ]
  },
  {
   "cell_type": "code",
   "execution_count": 50,
   "id": "cd0ab462",
   "metadata": {},
   "outputs": [
    {
     "name": "stdout",
     "output_type": "stream",
     "text": [
      "Enter a stringhello sir\n",
      "The duplicate characters are\n",
      "l\n",
      "l\n"
     ]
    }
   ],
   "source": [
    "b=input(\"Enter a string\")\n",
    "print(\"The duplicate characters are\")\n",
    "for i in b:\n",
    "    if(b.count(i)>1):\n",
    "        print(i)"
   ]
  },
  {
   "cell_type": "markdown",
   "id": "8815eb6d",
   "metadata": {},
   "source": [
    "7.Write a Python Program to check if a string contains any special character?"
   ]
  },
  {
   "cell_type": "code",
   "execution_count": 52,
   "id": "6aa3c439",
   "metadata": {},
   "outputs": [
    {
     "name": "stdout",
     "output_type": "stream",
     "text": [
      "Enter a stringasdsasda /]]\n",
      "/\n",
      "]\n",
      "]\n"
     ]
    }
   ],
   "source": [
    "c='[@_!#$%^&*()<>?/\\|}{~:]'\n",
    "d=input('Enter a string')\n",
    "print('The special characters are')\n",
    "for i in d:\n",
    "    if i in c:\n",
    "        print(i)"
   ]
  }
 ],
 "metadata": {
  "kernelspec": {
   "display_name": "Python 3 (ipykernel)",
   "language": "python",
   "name": "python3"
  },
  "language_info": {
   "codemirror_mode": {
    "name": "ipython",
    "version": 3
   },
   "file_extension": ".py",
   "mimetype": "text/x-python",
   "name": "python",
   "nbconvert_exporter": "python",
   "pygments_lexer": "ipython3",
   "version": "3.9.7"
  }
 },
 "nbformat": 4,
 "nbformat_minor": 5
}
