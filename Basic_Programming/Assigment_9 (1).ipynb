{
 "cells": [
  {
   "cell_type": "markdown",
   "id": "794f1f77",
   "metadata": {},
   "source": [
    "1.\tWrite a Python program to check if the given number is a Disarium Number?\n",
    "2.\tWrite a Python program to print all disarium numbers between 1 to 100?\n",
    "3.\tWrite a Python program to check if the given number is Happy Number?\n",
    "4.\tWrite a Python program to print all happy numbers between 1 and 100?\n",
    "5.\tWrite a Python program to determine whether the given number is a Harshad Number?\n",
    "6.\tWrite a Python program to print all pronic numbers between 1 and 100?\n"
   ]
  },
  {
   "cell_type": "markdown",
   "id": "84174d9c",
   "metadata": {},
   "source": [
    "1.Write a Python program to check if the given number is a Disarium Number?"
   ]
  },
  {
   "cell_type": "code",
   "execution_count": 19,
   "id": "ad00f809",
   "metadata": {},
   "outputs": [
    {
     "name": "stdout",
     "output_type": "stream",
     "text": [
      "enter a number123\n",
      "it is not  Disarium number\n"
     ]
    }
   ],
   "source": [
    "a=int(input(\"enter a number\"))\n",
    "values=a\n",
    "c=a\n",
    "count=0\n",
    "sum=0\n",
    "while c>0:\n",
    "    c=int(c/10)\n",
    "    count=count+1\n",
    "while a>0:\n",
    "    val1=a%10\n",
    "    sum=sum+ (val1**count)\n",
    "    count=count-1\n",
    "    a=int(a/10)\n",
    "if sum==values:\n",
    "    print(sum,\"it is Disarium number\")\n",
    "else:\n",
    "    print(\"it is not  Disarium number\")\n",
    "    \n",
    "    "
   ]
  },
  {
   "cell_type": "markdown",
   "id": "28c3e47d",
   "metadata": {},
   "source": [
    "2.Write a Python program to print all disarium numbers between 1 to 100?"
   ]
  },
  {
   "cell_type": "code",
   "execution_count": 21,
   "id": "519564cf",
   "metadata": {},
   "outputs": [
    {
     "name": "stdout",
     "output_type": "stream",
     "text": [
      "2\n",
      "3\n",
      "4\n",
      "5\n",
      "6\n",
      "7\n",
      "8\n",
      "9\n",
      "89\n"
     ]
    }
   ],
   "source": [
    "def isdisarium(a):\n",
    "    c=a\n",
    "    val=a\n",
    "    count=0\n",
    "    sum=0\n",
    "    while c>0:\n",
    "        c=int(c/10)\n",
    "        count=count+1\n",
    "    while a>0:\n",
    "        val1=a%10\n",
    "        sum=sum+ (val1**count)\n",
    "        count=count-1\n",
    "        a=int(a/10)\n",
    "    if sum==val:\n",
    "        return 1\n",
    "    else:\n",
    "        return 0\n",
    "for i in range(2,100):\n",
    "    c=isdisarium(i)\n",
    "    if(c==1):\n",
    "        print(i)\n",
    "    \n",
    "    "
   ]
  },
  {
   "cell_type": "markdown",
   "id": "91b8ffee",
   "metadata": {},
   "source": [
    "3.Write a Python program to check if the given number is Happy Number?"
   ]
  },
  {
   "cell_type": "code",
   "execution_count": 45,
   "id": "f70aaf6c",
   "metadata": {},
   "outputs": [
    {
     "name": "stdout",
     "output_type": "stream",
     "text": [
      "enter a number2\n",
      "it is not happy number\n"
     ]
    }
   ],
   "source": [
    "\n",
    "def ishappy(c):\n",
    "    l=[]\n",
    "    while True:\n",
    "        c=int(c)\n",
    "        \n",
    "        d=issquare(c)\n",
    "        \n",
    "        \n",
    "        \n",
    "        \n",
    "        if d==1:\n",
    "            print(\"it is a happy number\")\n",
    "            break;\n",
    "        if d in l:\n",
    "            print('it is not happy number')\n",
    "            break;\n",
    "        l.append(d)\n",
    "        c=d\n",
    "     \n",
    "        \n",
    "        \n",
    "def issquare(a):\n",
    "    sum=0\n",
    "    while (a)>0:\n",
    "        val1=a%10\n",
    "        sum=sum+ (val1**2)\n",
    "        a=int(a/10)\n",
    "    return sum\n",
    "c=int(input(\"enter a number\"))\n",
    "ishappy(c)\n",
    "\n",
    "\n"
   ]
  },
  {
   "cell_type": "markdown",
   "id": "3f61bd31",
   "metadata": {},
   "source": [
    "4.Write a Python program to print all happy numbers between 1 and 100?"
   ]
  },
  {
   "cell_type": "code",
   "execution_count": 50,
   "id": "24e58fb3",
   "metadata": {},
   "outputs": [
    {
     "name": "stdout",
     "output_type": "stream",
     "text": [
      "7\n",
      "10\n",
      "13\n",
      "19\n",
      "23\n",
      "28\n",
      "31\n",
      "32\n",
      "44\n",
      "49\n",
      "68\n",
      "70\n",
      "79\n",
      "82\n",
      "86\n",
      "91\n",
      "94\n",
      "97\n"
     ]
    }
   ],
   "source": [
    "\n",
    "def ishappy(c):\n",
    "    l=[]\n",
    "    while True:\n",
    "        c=int(c)\n",
    "        \n",
    "        d=issquare(c)\n",
    "        \n",
    "        \n",
    "        \n",
    "        \n",
    "        if d==1:\n",
    "            return 1\n",
    "            break;\n",
    "        if d in l:\n",
    "            return 0\n",
    "            break;\n",
    "        l.append(d)\n",
    "        c=d\n",
    "     \n",
    "        \n",
    "        \n",
    "def issquare(a):\n",
    "    sum=0\n",
    "    while (a)>0:\n",
    "        val1=a%10\n",
    "        sum=sum+ (val1**2)\n",
    "        a=int(a/10)\n",
    "    return sum\n",
    "\n",
    "for i in range(2,100):\n",
    "    j=ishappy(i)\n",
    "    if j==1:\n",
    "        print(i)\n",
    "        \n"
   ]
  },
  {
   "cell_type": "markdown",
   "id": "b5d4dce2",
   "metadata": {},
   "source": [
    "5.Write a Python program to determine whether the given number is a Harshad Number"
   ]
  },
  {
   "cell_type": "code",
   "execution_count": 60,
   "id": "72dbadb4",
   "metadata": {},
   "outputs": [
    {
     "name": "stdout",
     "output_type": "stream",
     "text": [
      "enter a number21\n",
      "it is harhad number\n"
     ]
    }
   ],
   "source": [
    "def isharshad(a):\n",
    "    sum=0\n",
    "    val1=0\n",
    "    while (a)>0:\n",
    "        val1=a%10\n",
    "        sum=sum+ val1\n",
    "        a=int(a/10)\n",
    "    return sum\n",
    "c=int(input(\"enter a number\"))\n",
    "d=isharshad(c)\n",
    "if c%d==0:\n",
    "    print(\"it is harshad number\")\n",
    "else:\n",
    "    print(\"it is not harshad number\")"
   ]
  },
  {
   "cell_type": "markdown",
   "id": "34141421",
   "metadata": {},
   "source": [
    "6.Write a Python program to print all pronic numbers between 1 and 100?"
   ]
  },
  {
   "cell_type": "code",
   "execution_count": 69,
   "id": "acab0506",
   "metadata": {},
   "outputs": [
    {
     "name": "stdout",
     "output_type": "stream",
     "text": [
      "enter the a number to check if its pronic421\n",
      "it is not pronic number\n"
     ]
    }
   ],
   "source": [
    "import math\n",
    "c=int(input(\"enter the a number to check if its pronic\"))\n",
    "d=math.sqrt(c)\n",
    "d=int(d)\n",
    "if ((d * (d+1))==c):\n",
    "    print(\"it is pronic number\")\n",
    "else:\n",
    "    print('it is not pronic number')"
   ]
  },
  {
   "cell_type": "code",
   "execution_count": null,
   "id": "dbbb2200",
   "metadata": {},
   "outputs": [],
   "source": []
  }
 ],
 "metadata": {
  "kernelspec": {
   "display_name": "Python 3 (ipykernel)",
   "language": "python",
   "name": "python3"
  },
  "language_info": {
   "codemirror_mode": {
    "name": "ipython",
    "version": 3
   },
   "file_extension": ".py",
   "mimetype": "text/x-python",
   "name": "python",
   "nbconvert_exporter": "python",
   "pygments_lexer": "ipython3",
   "version": "3.9.7"
  }
 },
 "nbformat": 4,
 "nbformat_minor": 5
}
