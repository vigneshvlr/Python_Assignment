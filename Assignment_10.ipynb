{
 "cells": [
  {
   "cell_type": "markdown",
   "id": "5d8eb098",
   "metadata": {},
   "source": [
    "# 1. How do you distinguish between shutil.copy() and shutil.copytree()?"
   ]
  },
  {
   "cell_type": "markdown",
   "id": "cc425d79",
   "metadata": {},
   "source": [
    "# Answer:\n",
    "    shutil copy will copy the enitire file and shutil.copytree() copy entire folder with all files in it with all its content"
   ]
  },
  {
   "cell_type": "markdown",
   "id": "be9b1979",
   "metadata": {},
   "source": [
    "# 2. What function is used to rename files??"
   ]
  },
  {
   "cell_type": "markdown",
   "id": "49cbadf3",
   "metadata": {},
   "source": [
    "# Answer:\n",
    "    os.rename(),rename() is the funtion to rename the files in python which comes under the os  module"
   ]
  },
  {
   "cell_type": "markdown",
   "id": "9011d94e",
   "metadata": {},
   "source": [
    "# 3. What is the difference between the delete functions in the send2trash and shutil modules?\n"
   ]
  },
  {
   "cell_type": "markdown",
   "id": "accad1f6",
   "metadata": {},
   "source": [
    "# Answer:\n",
    "     delete function in send2trash will delete the file and move it to recyle bin,where as the delete function in shutil modules with delete the file permanently"
   ]
  },
  {
   "cell_type": "markdown",
   "id": "0fb7627b",
   "metadata": {},
   "source": [
    "# 4.ZipFile objects have a close() method just like File objects’ close() method. What ZipFile method is equivalent to File objects’ open() method?"
   ]
  },
  {
   "cell_type": "markdown",
   "id": "a7a04b15",
   "metadata": {},
   "source": [
    "# Answer:\n",
    "ZipFile.open()  is the equivaent  object methods to open"
   ]
  },
  {
   "cell_type": "markdown",
   "id": "f97941f5",
   "metadata": {},
   "source": [
    "# 5. Create a programme that searches a folder tree for files with a certain file extension (such as .pdf or .jpg). \n"
   ]
  },
  {
   "cell_type": "code",
   "execution_count": 8,
   "id": "8d11688a",
   "metadata": {},
   "outputs": [
    {
     "name": "stdout",
     "output_type": "stream",
     "text": [
      "enter the filename or directoryC:\\Users\\vigne\\Downloads\\abc\\abc.jpg\n"
     ]
    }
   ],
   "source": [
    "c=input(\"enter the filename or directory\")\n",
    "d=open(c,'w')\n"
   ]
  }
 ],
 "metadata": {
  "kernelspec": {
   "display_name": "Python 3 (ipykernel)",
   "language": "python",
   "name": "python3"
  },
  "language_info": {
   "codemirror_mode": {
    "name": "ipython",
    "version": 3
   },
   "file_extension": ".py",
   "mimetype": "text/x-python",
   "name": "python",
   "nbconvert_exporter": "python",
   "pygments_lexer": "ipython3",
   "version": "3.9.7"
  }
 },
 "nbformat": 4,
 "nbformat_minor": 5
}
