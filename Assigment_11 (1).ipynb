{
 "cells": [
  {
   "cell_type": "markdown",
   "id": "c5da62f1",
   "metadata": {},
   "source": [
    "# 1. Create an assert statement that throws an AssertionError if the variable spam is a negative integer."
   ]
  },
  {
   "cell_type": "code",
   "execution_count": 6,
   "id": "8674246b",
   "metadata": {},
   "outputs": [
    {
     "name": "stdout",
     "output_type": "stream",
     "text": [
      "enter a integer-1\n"
     ]
    },
    {
     "ename": "AssertionError",
     "evalue": "",
     "output_type": "error",
     "traceback": [
      "\u001b[1;31m---------------------------------------------------------------------------\u001b[0m",
      "\u001b[1;31mAssertionError\u001b[0m                            Traceback (most recent call last)",
      "\u001b[1;32m~\\AppData\\Local\\Temp/ipykernel_22188/1114416761.py\u001b[0m in \u001b[0;36m<module>\u001b[1;34m\u001b[0m\n\u001b[0;32m      1\u001b[0m \u001b[0mnumber\u001b[0m \u001b[1;33m=\u001b[0m\u001b[0mint\u001b[0m\u001b[1;33m(\u001b[0m\u001b[0minput\u001b[0m\u001b[1;33m(\u001b[0m\u001b[1;34m\"enter a integer\"\u001b[0m\u001b[1;33m)\u001b[0m\u001b[1;33m)\u001b[0m\u001b[1;33m\u001b[0m\u001b[1;33m\u001b[0m\u001b[0m\n\u001b[1;32m----> 2\u001b[1;33m \u001b[1;32massert\u001b[0m \u001b[0mnumber\u001b[0m \u001b[1;33m>\u001b[0m \u001b[1;36m0\u001b[0m\u001b[1;33m\u001b[0m\u001b[1;33m\u001b[0m\u001b[0m\n\u001b[0m",
      "\u001b[1;31mAssertionError\u001b[0m: "
     ]
    }
   ],
   "source": [
    " number =int(input(\"enter a integer\"))\n",
    "assert number > 0"
   ]
  },
  {
   "cell_type": "markdown",
   "id": "3e560e5e",
   "metadata": {},
   "source": [
    "# 2. Write an assert statement that triggers an AssertionError if the variables eggs and bacon contain strings that are the same as each other, even if their cases are different (that is, 'hello' and 'hello' are considered the same, and 'goodbye' and 'GOODbye' are also considered the same).\n"
   ]
  },
  {
   "cell_type": "code",
   "execution_count": 9,
   "id": "377eac17",
   "metadata": {},
   "outputs": [
    {
     "name": "stdout",
     "output_type": "stream",
     "text": [
      "enter a wordhello\n",
      "enter a wordHELLO\n"
     ]
    },
    {
     "ename": "AssertionError",
     "evalue": "",
     "output_type": "error",
     "traceback": [
      "\u001b[1;31m---------------------------------------------------------------------------\u001b[0m",
      "\u001b[1;31mAssertionError\u001b[0m                            Traceback (most recent call last)",
      "\u001b[1;32m~\\AppData\\Local\\Temp/ipykernel_22188/386739778.py\u001b[0m in \u001b[0;36m<module>\u001b[1;34m\u001b[0m\n\u001b[0;32m      3\u001b[0m \u001b[0meggs\u001b[0m\u001b[1;33m=\u001b[0m\u001b[0meggs\u001b[0m\u001b[1;33m.\u001b[0m\u001b[0mlower\u001b[0m\u001b[1;33m(\u001b[0m\u001b[1;33m)\u001b[0m\u001b[1;33m\u001b[0m\u001b[1;33m\u001b[0m\u001b[0m\n\u001b[0;32m      4\u001b[0m \u001b[0mbacon\u001b[0m\u001b[1;33m=\u001b[0m\u001b[0mbacon\u001b[0m\u001b[1;33m.\u001b[0m\u001b[0mlower\u001b[0m\u001b[1;33m(\u001b[0m\u001b[1;33m)\u001b[0m\u001b[1;33m\u001b[0m\u001b[1;33m\u001b[0m\u001b[0m\n\u001b[1;32m----> 5\u001b[1;33m \u001b[1;32massert\u001b[0m \u001b[0meggs\u001b[0m\u001b[1;33m!=\u001b[0m\u001b[0mbacon\u001b[0m\u001b[1;33m\u001b[0m\u001b[1;33m\u001b[0m\u001b[0m\n\u001b[0m",
      "\u001b[1;31mAssertionError\u001b[0m: "
     ]
    }
   ],
   "source": [
    "eggs=input(\"enter a word\")\n",
    "bacon=input(\"enter a word\")\n",
    "eggs=eggs.lower()\n",
    "bacon=bacon.lower()\n",
    "assert eggs!=bacon"
   ]
  },
  {
   "cell_type": "markdown",
   "id": "2af54d65",
   "metadata": {},
   "source": [
    "# 3. Create an assert statement that throws an AssertionError every time"
   ]
  },
  {
   "cell_type": "code",
   "execution_count": 17,
   "id": "f767b47a",
   "metadata": {},
   "outputs": [
    {
     "name": "stdout",
     "output_type": "stream",
     "text": [
      "sad\n"
     ]
    },
    {
     "ename": "AssertionError",
     "evalue": "",
     "output_type": "error",
     "traceback": [
      "\u001b[1;31m---------------------------------------------------------------------------\u001b[0m",
      "\u001b[1;31mAssertionError\u001b[0m                            Traceback (most recent call last)",
      "\u001b[1;32m~\\AppData\\Local\\Temp/ipykernel_22188/3621857033.py\u001b[0m in \u001b[0;36m<module>\u001b[1;34m\u001b[0m\n\u001b[0;32m      1\u001b[0m \u001b[0ma\u001b[0m\u001b[1;33m=\u001b[0m\u001b[0minput\u001b[0m\u001b[1;33m(\u001b[0m\u001b[1;33m)\u001b[0m\u001b[1;33m\u001b[0m\u001b[1;33m\u001b[0m\u001b[0m\n\u001b[1;32m----> 2\u001b[1;33m \u001b[1;32massert\u001b[0m \u001b[0ma\u001b[0m\u001b[1;33m==\u001b[0m\u001b[1;32mFalse\u001b[0m\u001b[1;33m\u001b[0m\u001b[1;33m\u001b[0m\u001b[0m\n\u001b[0m",
      "\u001b[1;31mAssertionError\u001b[0m: "
     ]
    }
   ],
   "source": [
    "a=input()\n",
    "assert a==False"
   ]
  },
  {
   "cell_type": "markdown",
   "id": "4c14a016",
   "metadata": {},
   "source": [
    "# 4.What are the two lines that must be present in your software in order to call logging.debug()?"
   ]
  },
  {
   "cell_type": "markdown",
   "id": "80802838",
   "metadata": {},
   "source": [
    "Answer:\n",
    "import logging and logging.basicConfig(filename = \"test.log\" ,level = logging.debug) these two with level  of log in debug is required to logging debug"
   ]
  },
  {
   "cell_type": "markdown",
   "id": "002d9fef",
   "metadata": {},
   "source": [
    "# 5.What are the two lines that your program must have in order to have logging.debug() send a logging message to a file named programLog.txt?"
   ]
  },
  {
   "cell_type": "code",
   "execution_count": 50,
   "id": "f8b1323e",
   "metadata": {},
   "outputs": [],
   "source": [
    "import logging\n",
    "logging.basicConfig(filename='vignesh.txt',level=logging.DEBUG)\n",
    "logging.debug('this is my debug log')"
   ]
  },
  {
   "cell_type": "markdown",
   "id": "582915ae",
   "metadata": {},
   "source": [
    "# 6. What are the five levels of logging"
   ]
  },
  {
   "cell_type": "markdown",
   "id": "feba3b0f",
   "metadata": {},
   "source": [
    "Answer:\n",
    "1.DEBUG \n",
    "2.INFO\n",
    "3.WARNING\n",
    "4.ERROR\n",
    "5.CRITICAL\n",
    "the above the 5 differ levels of loggging"
   ]
  },
  {
   "cell_type": "markdown",
   "id": "cfd3cf42",
   "metadata": {},
   "source": [
    "# 7. What line of code would you add to your software to disable all logging messages?\n"
   ]
  },
  {
   "cell_type": "markdown",
   "id": "077b1ad1",
   "metadata": {},
   "source": [
    "Answer:\n",
    "\n",
    "logging.disable(level='') is the function used to disabe the logger and level should be passed inside it"
   ]
  },
  {
   "cell_type": "markdown",
   "id": "3eced57b",
   "metadata": {},
   "source": [
    "# 8.Why is using logging messages better than using print() to display the same message?\n"
   ]
  },
  {
   "cell_type": "markdown",
   "id": "60b2111b",
   "metadata": {},
   "source": [
    "logger is important when we debug the complex code,we cannot have print statement in that case and logger store all the \n",
    "information at one file and it can validated where it went wrong at any point of time"
   ]
  },
  {
   "cell_type": "markdown",
   "id": "7750de47",
   "metadata": {},
   "source": [
    "# 9. What are the differences between the Step Over, Step In, and Step Out buttons in the debugger?\n"
   ]
  },
  {
   "cell_type": "markdown",
   "id": "1ee2da77",
   "metadata": {},
   "source": [
    "Step Into will cause the debugger to go into the next function call and break there. \n",
    "Step Over will tell the debugger to execute the next function and break afterwards \n",
    "Step Out will tell the debugger to finish the current function and break after it"
   ]
  },
  {
   "cell_type": "markdown",
   "id": "de9030d2",
   "metadata": {},
   "source": [
    "# 10.After you click Continue, when will the debugger stop "
   ]
  },
  {
   "cell_type": "markdown",
   "id": "570e40aa",
   "metadata": {},
   "source": [
    " Answer:continue execution, only stop when a breakpoint is encountered."
   ]
  },
  {
   "cell_type": "markdown",
   "id": "6c6653fd",
   "metadata": {},
   "source": [
    "# 11. What is the concept of a breakpoint?"
   ]
  },
  {
   "cell_type": "markdown",
   "id": "1df15e5b",
   "metadata": {},
   "source": [
    "program will stop or pause when ever the breakpoint is reached its use to debugg the code very easily\n"
   ]
  }
 ],
 "metadata": {
  "kernelspec": {
   "display_name": "Python 3 (ipykernel)",
   "language": "python",
   "name": "python3"
  },
  "language_info": {
   "codemirror_mode": {
    "name": "ipython",
    "version": 3
   },
   "file_extension": ".py",
   "mimetype": "text/x-python",
   "name": "python",
   "nbconvert_exporter": "python",
   "pygments_lexer": "ipython3",
   "version": "3.9.7"
  }
 },
 "nbformat": 4,
 "nbformat_minor": 5
}
